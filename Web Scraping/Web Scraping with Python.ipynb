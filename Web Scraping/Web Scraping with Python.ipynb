{
 "cells": [
  {
   "cell_type": "markdown",
   "metadata": {
    "id": "RZ7GWu6uKl-o"
   },
   "source": [
    "# Web Scraping"
   ]
  },
  {
   "cell_type": "markdown",
   "metadata": {
    "id": "4A2m2EY-Kl-q"
   },
   "source": [
    "- what is web scraping\n",
    "- html basics\n",
    "- beautiful soup"
   ]
  },
  {
   "cell_type": "markdown",
   "metadata": {
    "id": "w33iJl02Kl-r"
   },
   "source": [
    "### What is Web-Scraping?\n",
    "Web scraping is the process of using scripts or bots to extract content and data from a website.\n",
    "\n",
    "This is especillay useful in gathering data from the internet, when web APIs aren't available.\n",
    "- An API, or Application Programming Interface, is an interface that defines how different software would interact with each other. For example google maps has an API so that you don't have to web-scrape for programs to use it.\n",
    "\n",
    "Web-Scraping primarily works by 'parsing' html code.\n",
    "\n",
    "HTML is how web-pages are encoded. They allow for the information on a page to be displayed on any size screen when they are read and decoded by a web-browser.\n",
    "\n",
    "In order for us to web-scrape, we first need to understand some of the basics of HTML\n",
    "\n",
    "### HTML in a Nutshell\n",
    "Let's start by looking at a basic example:\n",
    "\n",
    "<img src=\"html_basic_example.png\">\n",
    "\n",
    "Each part of a page is defined by a 'tag'. Tags come in pairs, the opening tag has the form  < _ > and the closing tag has the form </ _ >\n",
    "\n",
    "There are many differnt kinds of tags, with many different meanings, here are some of the common ones you'll run into:\n",
    "\n",
    "| Tag  | Use |\n",
    "|:---:|:---|\n",
    "| < html > | The root of the page, gives the browswer a starting point |\n",
    "| < head > | Contains elements describing the document |\n",
    "| < body > | Defines the main body of the page, within it will be all the images, tables, lists, paragraphs, etc. |\n",
    "| < p > |Paragraph, contains standard text |\n",
    "| < li > | Defines list elements |\n",
    "| < a > | stands for anchor, contains a link to another page. Takes the form < a href=\"...\"> Statements... < /a> |\n",
    "| < div > | Divides sections in a page, used as a container for html elements |\n",
    "| < tr > | Holds row of data in a table format, used as a container for td elements |\n",
    "| < td > | Holds data in a \"cell\" within an HTML table | \n",
    "\n",
    "\n",
    "Pages will have many tags nested in one another, and it can be intimidating to navigate at first. Fortunatly, web browswers make it easy to study the html. Open any web-site in another page, highlight anything you want to see the html source of, right-click, and select \"inspect\" or \"inspect element\"\n",
    "\n",
    "This will bring up the html source the page is using. Running your mouse over the code will highlight what it produces on the screen\n",
    "\n",
    "Often times elements will have 'Attributes' :\n",
    "\n",
    "<img src=\"html_attribute_example.png\">\n",
    "\n",
    "The 'a' tag tells us the image of the wikipedia symbol is actually a link to the main page, with attributes of a 'title', 'class', and 'href' (or hyperlink reference, that gives the url the image links to)\n",
    "\n",
    "We will use these attributes to search for elements within the html using a web-scraping package called 'Beautiful Soup'"
   ]
  },
  {
   "cell_type": "markdown",
   "metadata": {
    "id": "S2DxxlKsKl-r"
   },
   "source": [
    "### Beautiful Soup\n",
    "\n",
    "'Beautiful Soup' is a python package for web-scraping just like 'Pandas' is a package for Data Analysis\n",
    "\n",
    "First, lets open and look at the IMDB Top 250 Movies: https://www.imdb.com/chart/top/\n",
    "\n",
    "Below is the code that will extract the titles of each of the listed movies, along with its release year and rating. This information will be stored in a Pandas data frame\n",
    "\n",
    "Lets look through the code and see what each part does:"
   ]
  },
  {
   "cell_type": "code",
   "execution_count": 1,
   "metadata": {
    "id": "K12ldhRZKl-s"
   },
   "outputs": [],
   "source": [
    "import requests #package to make requests over the internet in order to get the html code from desired URLs\n",
    "from bs4 import BeautifulSoup\n",
    "import pandas as pd"
   ]
  },
  {
   "cell_type": "code",
   "execution_count": 2,
   "metadata": {
    "id": "Vs5cEzFhKl-s",
    "outputId": "73465db8-da47-461d-e9d1-3b9268e9db66"
   },
   "outputs": [
    {
     "name": "stdout",
     "output_type": "stream",
     "text": [
      "status code 200\n"
     ]
    }
   ],
   "source": [
    "#first retrieve the information from IMDB\n",
    "result = requests.get(\"https://www.imdb.com/chart/top/\")\n",
    "print('status code',result.status_code) #a code of 200 means that the request was successful, 404 would mean 'not found'\n",
    "src = result.content #this takes the information retrieved and stores the source code delivered\n",
    "\n",
    "#src is raw html, we pass that into the BeautifulSoup function, that parses the information into a new data structure, similar to how we store 'csv' information in a data frame.\n",
    "#the 'soup' variable will be easier for us to analyze since we can use the function provided by the package with it.\n",
    "soup = BeautifulSoup(src, 'lxml')  #'lxml' tells the function the data's encoding"
   ]
  },
  {
   "cell_type": "markdown",
   "metadata": {
    "id": "maffXOSHKl-t"
   },
   "source": [
    "Run the cell below and see the output it produces, we'll break down what it does below"
   ]
  },
  {
   "cell_type": "code",
   "execution_count": 3,
   "metadata": {
    "id": "26c9O3yNKl-u",
    "outputId": "5695e148-8beb-477a-9ee5-9fd4c36b0ca3"
   },
   "outputs": [
    {
     "data": {
      "text/html": [
       "<div>\n",
       "<style scoped>\n",
       "    .dataframe tbody tr th:only-of-type {\n",
       "        vertical-align: middle;\n",
       "    }\n",
       "\n",
       "    .dataframe tbody tr th {\n",
       "        vertical-align: top;\n",
       "    }\n",
       "\n",
       "    .dataframe thead th {\n",
       "        text-align: right;\n",
       "    }\n",
       "</style>\n",
       "<table border=\"1\" class=\"dataframe\">\n",
       "  <thead>\n",
       "    <tr style=\"text-align: right;\">\n",
       "      <th></th>\n",
       "      <th>title</th>\n",
       "      <th>date</th>\n",
       "      <th>rating</th>\n",
       "    </tr>\n",
       "  </thead>\n",
       "  <tbody>\n",
       "    <tr>\n",
       "      <th>0</th>\n",
       "      <td>The Shawshank Redemption</td>\n",
       "      <td>(1994)</td>\n",
       "      <td>9.2</td>\n",
       "    </tr>\n",
       "    <tr>\n",
       "      <th>1</th>\n",
       "      <td>The Godfather</td>\n",
       "      <td>(1972)</td>\n",
       "      <td>9.1</td>\n",
       "    </tr>\n",
       "    <tr>\n",
       "      <th>2</th>\n",
       "      <td>The Godfather: Part II</td>\n",
       "      <td>(1974)</td>\n",
       "      <td>9.0</td>\n",
       "    </tr>\n",
       "    <tr>\n",
       "      <th>3</th>\n",
       "      <td>The Dark Knight</td>\n",
       "      <td>(2008)</td>\n",
       "      <td>9.0</td>\n",
       "    </tr>\n",
       "    <tr>\n",
       "      <th>4</th>\n",
       "      <td>12 Angry Men</td>\n",
       "      <td>(1957)</td>\n",
       "      <td>8.9</td>\n",
       "    </tr>\n",
       "    <tr>\n",
       "      <th>...</th>\n",
       "      <td>...</td>\n",
       "      <td>...</td>\n",
       "      <td>...</td>\n",
       "    </tr>\n",
       "    <tr>\n",
       "      <th>245</th>\n",
       "      <td>The Battle of Algiers</td>\n",
       "      <td>(1966)</td>\n",
       "      <td>8.0</td>\n",
       "    </tr>\n",
       "    <tr>\n",
       "      <th>246</th>\n",
       "      <td>Nights of Cabiria</td>\n",
       "      <td>(1957)</td>\n",
       "      <td>8.0</td>\n",
       "    </tr>\n",
       "    <tr>\n",
       "      <th>247</th>\n",
       "      <td>Andrei Rublev</td>\n",
       "      <td>(1966)</td>\n",
       "      <td>8.0</td>\n",
       "    </tr>\n",
       "    <tr>\n",
       "      <th>248</th>\n",
       "      <td>Miracle in Cell No. 7</td>\n",
       "      <td>(2019)</td>\n",
       "      <td>8.0</td>\n",
       "    </tr>\n",
       "    <tr>\n",
       "      <th>249</th>\n",
       "      <td>Hera Pheri</td>\n",
       "      <td>(2000)</td>\n",
       "      <td>8.0</td>\n",
       "    </tr>\n",
       "  </tbody>\n",
       "</table>\n",
       "<p>250 rows × 3 columns</p>\n",
       "</div>"
      ],
      "text/plain": [
       "                        title    date rating\n",
       "0    The Shawshank Redemption  (1994)    9.2\n",
       "1               The Godfather  (1972)    9.1\n",
       "2      The Godfather: Part II  (1974)    9.0\n",
       "3             The Dark Knight  (2008)    9.0\n",
       "4                12 Angry Men  (1957)    8.9\n",
       "..                        ...     ...    ...\n",
       "245     The Battle of Algiers  (1966)    8.0\n",
       "246         Nights of Cabiria  (1957)    8.0\n",
       "247             Andrei Rublev  (1966)    8.0\n",
       "248     Miracle in Cell No. 7  (2019)    8.0\n",
       "249                Hera Pheri  (2000)    8.0\n",
       "\n",
       "[250 rows x 3 columns]"
      ]
     },
     "execution_count": 3,
     "metadata": {},
     "output_type": "execute_result"
    }
   ],
   "source": [
    "titleColumnContainers = soup.find_all('td',{'class':'titleColumn'})\n",
    "ratingColumnContainers = soup.find_all('td', {'class':'ratingColumn imdbRating'})\n",
    "\n",
    "movieTable = pd.DataFrame(columns = ['title','date']) #creates our empty data frame\n",
    "ratingTable = pd.DataFrame(columns = ['rating']) #creates additional data frame for ratings\n",
    "\n",
    "for container in titleColumnContainers:\n",
    "    date = container.span.text\n",
    "    title = container.a.text\n",
    "    movieTable = movieTable.append(pd.Series({'title':title,'date':date}),ignore_index=True)\n",
    "\n",
    "for container in ratingColumnContainers:\n",
    "    rating = container.strong.text\n",
    "    ratingTable = ratingTable.append(pd.Series({'rating':rating}),ignore_index=True)\n",
    "\n",
    "movieTable['rating'] = ratingTable\n",
    "movieTable"
   ]
  },
  {
   "cell_type": "markdown",
   "metadata": {
    "id": "PL13w1VBKl-u"
   },
   "source": [
    "Let's take a closer look at the first line:\n",
    "<code> titleColumnContainers = soup.find_all('td',{'class':'titleColumn'}) </code>\n",
    "\n",
    "The 'td' argument in the find_all() function, looks for every <td> tag in the html code. Lets try that by itself and see how many 'td' tags there are:"
   ]
  },
  {
   "cell_type": "code",
   "execution_count": 4,
   "metadata": {
    "id": "OoQocHy-Kl-v",
    "outputId": "f4a2bc05-4160-4fdd-c17f-a6627d07b41d"
   },
   "outputs": [
    {
     "data": {
      "text/plain": [
       "1250"
      ]
     },
     "execution_count": 4,
     "metadata": {},
     "output_type": "execute_result"
    }
   ],
   "source": [
    "len(soup.find_all('td'))"
   ]
  },
  {
   "cell_type": "markdown",
   "metadata": {
    "id": "wFb9QNtgKl-v"
   },
   "source": [
    "The second argument <code> {'class':'titleColumn'} </code> gives more detail of what we want. This specifically tells the function to only return td tags, whos 'class' attribute is 'titleColumn'\n",
    "\n",
    "This choice was only made by first analyzing the html in the browser. Since every title and year was contained in a 'td' tag with the same class tag, it made it the most obvious choice\n",
    "\n",
    "<img src=\"html_image_1.png\">"
   ]
  },
  {
   "cell_type": "markdown",
   "metadata": {
    "id": "lgP1UUimKl-v"
   },
   "source": [
    "The find_all() function returns a list of 'ResultSet' objects. Each of these objects contains what was in the respective 'td' tags, one of these 'containers' is highlighted in the html above."
   ]
  },
  {
   "cell_type": "markdown",
   "metadata": {
    "id": "g3s2cFqSKl-v"
   },
   "source": [
    "In the for loop, we iterate a process over each of the articles html, or 'containers' as the code names it"
   ]
  },
  {
   "cell_type": "markdown",
   "metadata": {
    "id": "XvPGt4ASKl-v"
   },
   "source": [
    "Beautiful Soup provides very easy syntax to access elements of 'soup' objects like container:\n",
    "\n",
    "<code>container.a.text</code> Looks for the first 'a' tag that it finds in 'container', and returns the text within that tag.\n",
    "\n",
    "<code>container.span.text</code> Looks for the first 'span' tag that it finds in the 'container', and returns the text within that tag. Span is used to emphasize the text.\n",
    "\n",
    "<code>container.strong.text</code> First finds the first 'strong' tag. 'strong' makes the text bold.\n",
    "\n",
    "<code>articles = articles.append(pd.Series({'title':title,'date':date,'link':link}),ignore_index=True)</code>\n",
    "This is all 'pandas', where the information stored in the variables title, and year are made into a series before being appended to the data frame articles"
   ]
  },
  {
   "cell_type": "markdown",
   "metadata": {
    "id": "3SZ2x9_cKl-w"
   },
   "source": [
    "# Try it yourself!\n",
    "\n",
    "See if you can use previous code to add a column with the links to the pictures for each top movie.\n",
    "\n",
    "Hint on approach: attrs['src'] will pull the link to the image if given the correct tag"
   ]
  },
  {
   "cell_type": "code",
   "execution_count": null,
   "metadata": {
    "id": "pTHvpdXLKl-w"
   },
   "outputs": [],
   "source": [
    "#Your code here"
   ]
  },
  {
   "cell_type": "markdown",
   "metadata": {
    "id": "3RHXvxHAKl-w"
   },
   "source": [
    "## Extra\n",
    "Using python's IPython library, we can use the column of links from above to display the movie poster. Try using pandas to insert your link instead of copying and pasting."
   ]
  },
  {
   "cell_type": "code",
   "execution_count": null,
   "metadata": {},
   "outputs": [],
   "source": [
    "import IPython.display as Disp\n",
    "\n",
    "#Insert movie link before the first comma\n",
    "Disp.Image(     , width=150, height=200)"
   ]
  }
 ],
 "metadata": {
  "colab": {
   "name": "Web Scraping with Python.ipynb",
   "provenance": []
  },
  "kernelspec": {
   "display_name": "Python 3",
   "language": "python",
   "name": "python3"
  },
  "language_info": {
   "codemirror_mode": {
    "name": "ipython",
    "version": 3
   },
   "file_extension": ".py",
   "mimetype": "text/x-python",
   "name": "python",
   "nbconvert_exporter": "python",
   "pygments_lexer": "ipython3",
   "version": "3.8.8"
  }
 },
 "nbformat": 4,
 "nbformat_minor": 1
}
