{
 "cells": [
  {
   "cell_type": "markdown",
   "id": "1ffb62cf",
   "metadata": {},
   "source": [
    "# Data Visualization with Pandas"
   ]
  },
  {
   "cell_type": "markdown",
   "id": "8067d8b1",
   "metadata": {},
   "source": [
    "### We will use data visualization methods built into Pandas\n",
    "### Hunter will be writing code line by line on projector\n",
    "### Practice writing code on your own\n",
    "### \n",
    "### For assistance, ask TA"
   ]
  },
  {
   "cell_type": "code",
   "execution_count": 2,
   "id": "a84a4a85",
   "metadata": {},
   "outputs": [],
   "source": [
    "#include all necessary packages\n"
   ]
  },
  {
   "cell_type": "markdown",
   "id": "48d128bc",
   "metadata": {},
   "source": [
    "We will use pandas to visualize our favorites data."
   ]
  },
  {
   "cell_type": "code",
   "execution_count": 4,
   "id": "199aacf2",
   "metadata": {},
   "outputs": [],
   "source": [
    "#read in our data set\n"
   ]
  },
  {
   "cell_type": "code",
   "execution_count": 2,
   "id": "eecc251e",
   "metadata": {},
   "outputs": [],
   "source": [
    " #view the data we are working with\n"
   ]
  },
  {
   "cell_type": "markdown",
   "id": "c52d8fad",
   "metadata": {},
   "source": [
    "## Pandas has a built in \"plot\" function that takes in parameters specifying how to make the visualization.\n",
    "### The plot function takes in a parameter called kind, which we can use to create a variety of charts"
   ]
  },
  {
   "cell_type": "markdown",
   "id": "c1074ff3",
   "metadata": {},
   "source": [
    "We will start by making a pie chart of favorite ice cream flavors. For a pie chart, we specify the kind field using kind=\"pie\"."
   ]
  },
  {
   "cell_type": "code",
   "execution_count": 6,
   "id": "54f7118b",
   "metadata": {},
   "outputs": [],
   "source": [
    "#Pull the data for our pie chart\n"
   ]
  },
  {
   "cell_type": "code",
   "execution_count": 1,
   "id": "6d97dd08",
   "metadata": {},
   "outputs": [],
   "source": [
    "#visualize the data\n"
   ]
  },
  {
   "cell_type": "markdown",
   "id": "00dfc956",
   "metadata": {},
   "source": [
    "Because our flavors are strings, we need to use the value_counts() function we talked about for data analysis. See what happens when we use value_counts() on our data."
   ]
  },
  {
   "cell_type": "code",
   "execution_count": 9,
   "id": "883943cf",
   "metadata": {},
   "outputs": [],
   "source": [
    "#Turn the string data into integer data for plotting using value_counts()\n"
   ]
  },
  {
   "cell_type": "code",
   "execution_count": 3,
   "id": "1af401f2",
   "metadata": {
    "scrolled": true
   },
   "outputs": [],
   "source": [
    "#visualize the data\n"
   ]
  },
  {
   "cell_type": "markdown",
   "id": "a0935bed",
   "metadata": {},
   "source": [
    "Now that our data is in a usable format, we can proceed with making the plot using the plot function."
   ]
  },
  {
   "cell_type": "code",
   "execution_count": 4,
   "id": "7c5dedf8",
   "metadata": {},
   "outputs": [],
   "source": [
    "#make the plot\n"
   ]
  },
  {
   "cell_type": "markdown",
   "id": "d84f5044",
   "metadata": {},
   "source": [
    "This graph looks good, but the title on the y-axis could look better."
   ]
  },
  {
   "cell_type": "code",
   "execution_count": 5,
   "id": "48c58876",
   "metadata": {},
   "outputs": [],
   "source": [
    "#We can set the y-label to be blank using the ylabel parameter\n",
    "#We can set the title of the chart using the title parameter\n"
   ]
  },
  {
   "cell_type": "markdown",
   "id": "abd9ced4",
   "metadata": {},
   "source": [
    "Using the steps above as a reference, try making a pie chart of our favorite subject data"
   ]
  },
  {
   "cell_type": "code",
   "execution_count": null,
   "id": "231dd029",
   "metadata": {},
   "outputs": [],
   "source": []
  },
  {
   "cell_type": "markdown",
   "id": "62173772",
   "metadata": {},
   "source": [
    "Next we will create a bar chart of our favorite music genres. Our steps look very similar to our pie chart process. Fill in the box below with the code to pull our genre data, and store it in a variable called \"genres'."
   ]
  },
  {
   "cell_type": "code",
   "execution_count": 22,
   "id": "d4fcea05",
   "metadata": {},
   "outputs": [],
   "source": [
    "#TODO\n"
   ]
  },
  {
   "cell_type": "markdown",
   "id": "f659d505",
   "metadata": {},
   "source": [
    "Once you've pulled the data, run the box below which uses kind=\"bar\" for chart creation."
   ]
  },
  {
   "cell_type": "code",
   "execution_count": null,
   "id": "1d2a66e5",
   "metadata": {
    "scrolled": true
   },
   "outputs": [],
   "source": []
  },
  {
   "cell_type": "markdown",
   "id": "a1538803",
   "metadata": {},
   "source": [
    "Customize this graph using the following parameters. Add parameters using the notation shown above.\n",
    "- title: changes the title\n",
    "- colormap: changes the color (https://matplotlib.org/stable/gallery/color/colormap_reference.html has a list of codes corresponding to colors)\n",
    "- xlabel: changes the x axis label\n",
    "- ylabel: changes the y axis label"
   ]
  },
  {
   "cell_type": "code",
   "execution_count": null,
   "id": "2d9d37c0",
   "metadata": {
    "scrolled": true
   },
   "outputs": [],
   "source": []
  },
  {
   "cell_type": "markdown",
   "id": "9b500b08",
   "metadata": {},
   "source": [
    "### X-Axis Dependent Graphs"
   ]
  },
  {
   "cell_type": "markdown",
   "id": "4c5b0d68",
   "metadata": {},
   "source": [
    "The last graphs we demonstrated were accumulation of data graphs. They showed totals over all the data. Next, we will learn how to make graphs where the y value changes according to x."
   ]
  },
  {
   "cell_type": "markdown",
   "id": "75621743",
   "metadata": {},
   "source": [
    "We've provided data of shrimp prices over time for use in these graphs."
   ]
  },
  {
   "cell_type": "code",
   "execution_count": null,
   "id": "1d216a8d",
   "metadata": {},
   "outputs": [],
   "source": []
  },
  {
   "cell_type": "markdown",
   "id": "4f735c4d",
   "metadata": {},
   "source": [
    "The first graph we will use is a line graph. Like other graphs, we simply need to specify a kind to generate the graph. See what happens when we run the line below."
   ]
  },
  {
   "cell_type": "code",
   "execution_count": null,
   "id": "71a3f9d7",
   "metadata": {},
   "outputs": [],
   "source": []
  },
  {
   "cell_type": "markdown",
   "id": "0a665029",
   "metadata": {},
   "source": [
    "Here we can see that our data is represented. However, the x-axis is using the index number of the data. We want to use the date of the data to gain a more valuable insight. We can use the x and y parameters to specify which columns of data we want to use in our graph."
   ]
  },
  {
   "cell_type": "code",
   "execution_count": null,
   "id": "1840043b",
   "metadata": {},
   "outputs": [],
   "source": []
  },
  {
   "cell_type": "markdown",
   "id": "2e4e6d11",
   "metadata": {},
   "source": [
    "As you can see, the graph now shows our month values on the x-axis. The dates are still very cramped on the axis though. Using your data analysis techniques, use the box below to make a line graph of the shrimp prices in only 2020."
   ]
  },
  {
   "cell_type": "markdown",
   "id": "dcf0003b",
   "metadata": {},
   "source": [
    "* Hint: Review lambda functions if you get stuck"
   ]
  },
  {
   "cell_type": "code",
   "execution_count": 8,
   "id": "c0914de3",
   "metadata": {},
   "outputs": [],
   "source": [
    "#TODO\n"
   ]
  },
  {
   "cell_type": "markdown",
   "id": "4532a38c",
   "metadata": {},
   "source": [
    "The final plot we are going to cover is the scatter plot. Like before, we can specify the scatter plot using kind=\"scatter\". However, a scatter plot must have a specified x and y value. See what happens if we try to run the default with no x and y."
   ]
  },
  {
   "cell_type": "code",
   "execution_count": 10,
   "id": "e5f722c3",
   "metadata": {},
   "outputs": [],
   "source": []
  },
  {
   "cell_type": "markdown",
   "id": "169f7ee5",
   "metadata": {},
   "source": [
    "Another twist to the scatter plot is the scaling of the x-axis. In a line plot, gaps are present in the x-axis because it is a continuity of time. In the scatter plot, every x-value must be presented. This can lead to a very slow generation process. We can see below that we generate a graph, but it takes a long time and is illegible on the x-axis."
   ]
  },
  {
   "cell_type": "code",
   "execution_count": null,
   "id": "4e3abf86",
   "metadata": {},
   "outputs": [],
   "source": []
  },
  {
   "cell_type": "markdown",
   "id": "746955ed",
   "metadata": {},
   "source": [
    "Because all 361 months in the dataset are included on the x-axis, it takes a long time to create and appears so thickly overlaid that it is illegible. The solution is to once more focus on a small subset of our data. Using the data analysis techniques we practiced above, create a scatterplot of the shrimp prices in only 2000."
   ]
  },
  {
   "cell_type": "code",
   "execution_count": 11,
   "id": "e0680c21",
   "metadata": {},
   "outputs": [],
   "source": [
    "#TODO\n"
   ]
  },
  {
   "cell_type": "markdown",
   "id": "ba75db43",
   "metadata": {},
   "source": [
    "This graph looks good, however it is still crowded on the x-axis. Because all of our years and days are the same, your challenge is to create the graph of shimp prices in 2000, using only months numbered 1-12 on the x-axis."
   ]
  },
  {
   "cell_type": "code",
   "execution_count": 12,
   "id": "f9fea4e0",
   "metadata": {
    "scrolled": true
   },
   "outputs": [],
   "source": [
    "#TODO\n"
   ]
  },
  {
   "cell_type": "markdown",
   "id": "df2fb2cd",
   "metadata": {},
   "source": [
    "This concludes our introduction to Data Visualization with Pandas. There are many more parameters and kinds of graphs we didn't cover in this introduction, so feel free to investigate more. A good starting place is the Pandas plot method documentation, which is linked below."
   ]
  },
  {
   "cell_type": "markdown",
   "id": "e9d5da8e",
   "metadata": {},
   "source": [
    "https://pandas.pydata.org/docs/reference/api/pandas.DataFrame.plot.html"
   ]
  },
  {
   "cell_type": "markdown",
   "id": "15a129cd",
   "metadata": {},
   "source": [
    "## Data Statistics with Pandas"
   ]
  },
  {
   "cell_type": "markdown",
   "id": "10cfce00",
   "metadata": {},
   "source": [
    "We will discuss an interesting data analysis metric for numerical data. This is a statistical grouping called the five number summary. The five number summary consists of the maximum value, mininum value, mean, first quartile, and third quartile."
   ]
  },
  {
   "cell_type": "markdown",
   "id": "2d69cdae",
   "metadata": {},
   "source": [
    "Pandas has a built in method for finding the five number summary and some additional information. If we use the .describe() method, we can see the five values along with the second quartile (labeled as 50%), the number of values used, and the standard deviation. We will use a new data set: Dunkin' Donut's information."
   ]
  },
  {
   "cell_type": "code",
   "execution_count": 13,
   "id": "fa5c4c17",
   "metadata": {
    "scrolled": true
   },
   "outputs": [],
   "source": [
    "#Import our data\n",
    "\n",
    "\n",
    "#Use the describe method\n",
    "#admit.describe()"
   ]
  },
  {
   "cell_type": "markdown",
   "id": "cf53d3f0",
   "metadata": {},
   "source": [
    "This may contain some confusing labels, but we can break it down into simple and valuable information.\n",
    " - \"count\" holds the total number of values in our data set\n",
    " - \"mean\" is the average value of our data set\n",
    " - \"std\" is the standard deviation of our data\n",
    " - \"min\" is the minimum value of the data\n",
    " - \"25%\" is the cutoff of the 1st quartile\n",
    " - \"50%\" is the cutoff of the 2nd quartile\n",
    " - \"75%\" is the cutoff of the 3rd quartile\n",
    " - \"max\" is the largest value in our data"
   ]
  },
  {
   "cell_type": "markdown",
   "id": "a843c244",
   "metadata": {},
   "source": [
    "We can also use pandas to find correlation as you may remember from our Data Analysis lab. We will use the .corr() method to find the correlation between all variables in our data frame. Because we are finding correlation, this is our r-value."
   ]
  },
  {
   "cell_type": "code",
   "execution_count": null,
   "id": "50bb3707",
   "metadata": {},
   "outputs": [],
   "source": []
  },
  {
   "cell_type": "markdown",
   "id": "5466f726",
   "metadata": {},
   "source": [
    "To find r squared for a specific value, we can use .corr() and find the specific r we want. We will use GPA because it has the strongest correlation with admission. As the name suggests, r squared is simply our r value squared."
   ]
  },
  {
   "cell_type": "code",
   "execution_count": 14,
   "id": "9a3a49c1",
   "metadata": {},
   "outputs": [],
   "source": [
    "#Use pandas to pull our r value for GPA correlated with Chance of Admit\n",
    "\n",
    "#Calculate GPA to Chance of Admission squared\n",
    "\n",
    "#Output the r squared value\n",
    "\n",
    "#Ans: 0.7786519523497205"
   ]
  },
  {
   "cell_type": "markdown",
   "id": "a6f7a46a",
   "metadata": {},
   "source": [
    "The final metrics we will calculate are our linear regression and P-Value. To do this complex statistical analysis, we have to use another library. This time we will use the scipy library and import only the stats methods. We will use this library to do the hard work of finding our regression. Using the linregress method, we can generate a linear regression and also see many important characteristics of our two arrays. Make sure our data is two series, or columns, so we are able to directly compare them."
   ]
  },
  {
   "cell_type": "code",
   "execution_count": 19,
   "id": "a9eb328e",
   "metadata": {},
   "outputs": [
    {
     "data": {
      "text/plain": [
       "LinregressResult(slope=0.2059216789132832, intercept=-1.044334923899038, rvalue=0.8824125749045741, pvalue=3.3965448587127633e-165, stderr=0.004919869220053583, intercept_stderr=0.04229954377392974)"
      ]
     },
     "execution_count": 19,
     "metadata": {},
     "output_type": "execute_result"
    }
   ],
   "source": [
    "#import our new library\n",
    "\n",
    "#Get our x and y values as series using pandas\n",
    "\n",
    "\n",
    "#This calculates the regression using our x and y values\n",
    "\n",
    "#Ouputs the result of our calculation\n",
    "\n",
    "#Ans: LinregressResult(slope=0.2059216789132832, intercept=-1.044334923899038, \n",
    "#rvalue=0.8824125749045741, pvalue=3.3965448587127633e-165, \n",
    "#stderr=0.004919869220053583, intercept_stderr=0.04229954377392974)\n"
   ]
  },
  {
   "cell_type": "markdown",
   "id": "3eb01e07",
   "metadata": {},
   "source": [
    "We can see tons of information comes from this regression calculation. Luckily, for our purposes we are only worried about the slope, error of our regression, and p-value. The slope value is the coffecient 'm' when we put our relationship in y = mx + b form. The standard error (stderr) is a measure similar to standard deviation. It also measures distribution, but in this case it reveals the average distance from our points to our regression line. Our P-value is also calculated when we run this regression calculation. Finally, we can see our r value is calculated again. Make sure the r value matches our earlier r value to ensure you're on the right track."
   ]
  },
  {
   "cell_type": "markdown",
   "id": "f84addc9",
   "metadata": {},
   "source": [
    "This shows a ton of information, and it can be hard to keep track of. We can pick specific values by specifying what values we want to see as shown below."
   ]
  },
  {
   "cell_type": "code",
   "execution_count": 15,
   "id": "5f71f830",
   "metadata": {
    "scrolled": true
   },
   "outputs": [],
   "source": [
    "#Output our p-value\n",
    "\n",
    "\n",
    "\n",
    "#Ouput our slope\n",
    "\n",
    "\n",
    "\n",
    "#Ans: 3.3965448587127633e-165\n",
    "#     0.2059216789132832"
   ]
  },
  {
   "cell_type": "markdown",
   "id": "8898c148",
   "metadata": {},
   "source": [
    "This concludes our introduction to data statistics using pandas and scipy. Scipy is a powerful library and has many more methods to offer. These statistics can be incredibly illuminating about our data, and will be incredibly useful in your major simulation. We will touch on many of these topics again in our Stats and Excel Lab, so make sure you remember what these statistical values represent."
   ]
  }
 ],
 "metadata": {
  "kernelspec": {
   "display_name": "Python 3",
   "language": "python",
   "name": "python3"
  },
  "language_info": {
   "codemirror_mode": {
    "name": "ipython",
    "version": 3
   },
   "file_extension": ".py",
   "mimetype": "text/x-python",
   "name": "python",
   "nbconvert_exporter": "python",
   "pygments_lexer": "ipython3",
   "version": "3.8.8"
  }
 },
 "nbformat": 4,
 "nbformat_minor": 5
}
