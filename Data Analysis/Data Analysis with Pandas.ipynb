{
 "cells": [
  {
   "cell_type": "markdown",
   "metadata": {},
   "source": [
    "\n",
    "# Data Analysis Follow Along"
   ]
  },
  {
   "cell_type": "markdown",
   "metadata": {},
   "source": [
    "### Previously we learned how to import and clean data in data frames using pandas. Now we're going to learn how to operate on that data to pull out useful information."
   ]
  },
  {
   "cell_type": "markdown",
   "metadata": {},
   "source": [
    "#### We will start by learning some of the built in functions Pandas has to offer"
   ]
  },
  {
   "cell_type": "code",
   "execution_count": 1,
   "metadata": {},
   "outputs": [],
   "source": [
    "#first things first:\n",
    "import numpy as np\n",
    "import pandas as pd"
   ]
  },
  {
   "cell_type": "markdown",
   "metadata": {},
   "source": [
    "We will practice on data from College Board collected in 2010, about the average SAT scores for different schools:"
   ]
  },
  {
   "cell_type": "code",
   "execution_count": 2,
   "metadata": {},
   "outputs": [],
   "source": [
    "sat = pd.read_csv('SAT_2010.csv')"
   ]
  },
  {
   "cell_type": "code",
   "execution_count": 3,
   "metadata": {
    "scrolled": true
   },
   "outputs": [
    {
     "data": {
      "text/html": [
       "<div>\n",
       "<style scoped>\n",
       "    .dataframe tbody tr th:only-of-type {\n",
       "        vertical-align: middle;\n",
       "    }\n",
       "\n",
       "    .dataframe tbody tr th {\n",
       "        vertical-align: top;\n",
       "    }\n",
       "\n",
       "    .dataframe thead th {\n",
       "        text-align: right;\n",
       "    }\n",
       "</style>\n",
       "<table border=\"1\" class=\"dataframe\">\n",
       "  <thead>\n",
       "    <tr style=\"text-align: right;\">\n",
       "      <th></th>\n",
       "      <th>DBN</th>\n",
       "      <th>School Name</th>\n",
       "      <th>Number of Test Takers</th>\n",
       "      <th>Critical Reading Mean</th>\n",
       "      <th>Mathematics Mean</th>\n",
       "      <th>Writing Mean</th>\n",
       "    </tr>\n",
       "  </thead>\n",
       "  <tbody>\n",
       "    <tr>\n",
       "      <th>0</th>\n",
       "      <td>01M292</td>\n",
       "      <td>Henry Street School for International Studies</td>\n",
       "      <td>31.0</td>\n",
       "      <td>391.0</td>\n",
       "      <td>425.0</td>\n",
       "      <td>385.0</td>\n",
       "    </tr>\n",
       "    <tr>\n",
       "      <th>1</th>\n",
       "      <td>01M448</td>\n",
       "      <td>University Neighborhood High School</td>\n",
       "      <td>60.0</td>\n",
       "      <td>394.0</td>\n",
       "      <td>419.0</td>\n",
       "      <td>387.0</td>\n",
       "    </tr>\n",
       "    <tr>\n",
       "      <th>2</th>\n",
       "      <td>01M450</td>\n",
       "      <td>East Side Community High School</td>\n",
       "      <td>69.0</td>\n",
       "      <td>418.0</td>\n",
       "      <td>431.0</td>\n",
       "      <td>402.0</td>\n",
       "    </tr>\n",
       "    <tr>\n",
       "      <th>3</th>\n",
       "      <td>01M458</td>\n",
       "      <td>SATELLITE ACADEMY FORSYTH ST</td>\n",
       "      <td>26.0</td>\n",
       "      <td>385.0</td>\n",
       "      <td>370.0</td>\n",
       "      <td>378.0</td>\n",
       "    </tr>\n",
       "    <tr>\n",
       "      <th>4</th>\n",
       "      <td>01M509</td>\n",
       "      <td>CMSP HIGH SCHOOL</td>\n",
       "      <td>NaN</td>\n",
       "      <td>NaN</td>\n",
       "      <td>NaN</td>\n",
       "      <td>NaN</td>\n",
       "    </tr>\n",
       "    <tr>\n",
       "      <th>...</th>\n",
       "      <td>...</td>\n",
       "      <td>...</td>\n",
       "      <td>...</td>\n",
       "      <td>...</td>\n",
       "      <td>...</td>\n",
       "      <td>...</td>\n",
       "    </tr>\n",
       "    <tr>\n",
       "      <th>455</th>\n",
       "      <td>75R025</td>\n",
       "      <td>South Richmond High School</td>\n",
       "      <td>10.0</td>\n",
       "      <td>407.0</td>\n",
       "      <td>421.0</td>\n",
       "      <td>400.0</td>\n",
       "    </tr>\n",
       "    <tr>\n",
       "      <th>456</th>\n",
       "      <td>75X012</td>\n",
       "      <td>PS12X LEWIS AND CLARK SCHOOL</td>\n",
       "      <td>NaN</td>\n",
       "      <td>NaN</td>\n",
       "      <td>NaN</td>\n",
       "      <td>NaN</td>\n",
       "    </tr>\n",
       "    <tr>\n",
       "      <th>457</th>\n",
       "      <td>75X754</td>\n",
       "      <td>P754 X - Jeffrey M. Rapport School for Career ...</td>\n",
       "      <td>NaN</td>\n",
       "      <td>NaN</td>\n",
       "      <td>NaN</td>\n",
       "      <td>NaN</td>\n",
       "    </tr>\n",
       "    <tr>\n",
       "      <th>458</th>\n",
       "      <td>76K460</td>\n",
       "      <td>John Jay High School</td>\n",
       "      <td>9.0</td>\n",
       "      <td>390.0</td>\n",
       "      <td>381.0</td>\n",
       "      <td>398.0</td>\n",
       "    </tr>\n",
       "    <tr>\n",
       "      <th>459</th>\n",
       "      <td>79X490</td>\n",
       "      <td>PHOENIX SCHOOL</td>\n",
       "      <td>7.0</td>\n",
       "      <td>404.0</td>\n",
       "      <td>423.0</td>\n",
       "      <td>416.0</td>\n",
       "    </tr>\n",
       "  </tbody>\n",
       "</table>\n",
       "<p>460 rows × 6 columns</p>\n",
       "</div>"
      ],
      "text/plain": [
       "        DBN                                        School Name  \\\n",
       "0    01M292     Henry Street School for International Studies    \n",
       "1    01M448               University Neighborhood High School    \n",
       "2    01M450                   East Side Community High School    \n",
       "3    01M458                      SATELLITE ACADEMY FORSYTH ST    \n",
       "4    01M509                                  CMSP HIGH SCHOOL    \n",
       "..      ...                                                ...   \n",
       "455  75R025                        South Richmond High School    \n",
       "456  75X012                      PS12X LEWIS AND CLARK SCHOOL    \n",
       "457  75X754  P754 X - Jeffrey M. Rapport School for Career ...   \n",
       "458  76K460                              John Jay High School    \n",
       "459  79X490                                    PHOENIX SCHOOL    \n",
       "\n",
       "     Number of Test Takers  Critical Reading Mean  Mathematics Mean  \\\n",
       "0                     31.0                  391.0             425.0   \n",
       "1                     60.0                  394.0             419.0   \n",
       "2                     69.0                  418.0             431.0   \n",
       "3                     26.0                  385.0             370.0   \n",
       "4                      NaN                    NaN               NaN   \n",
       "..                     ...                    ...               ...   \n",
       "455                   10.0                  407.0             421.0   \n",
       "456                    NaN                    NaN               NaN   \n",
       "457                    NaN                    NaN               NaN   \n",
       "458                    9.0                  390.0             381.0   \n",
       "459                    7.0                  404.0             423.0   \n",
       "\n",
       "     Writing Mean  \n",
       "0           385.0  \n",
       "1           387.0  \n",
       "2           402.0  \n",
       "3           378.0  \n",
       "4             NaN  \n",
       "..            ...  \n",
       "455         400.0  \n",
       "456           NaN  \n",
       "457           NaN  \n",
       "458         398.0  \n",
       "459         416.0  \n",
       "\n",
       "[460 rows x 6 columns]"
      ]
     },
     "execution_count": 3,
     "metadata": {},
     "output_type": "execute_result"
    }
   ],
   "source": [
    "sat #see what the Data set contains"
   ]
  },
  {
   "cell_type": "markdown",
   "metadata": {},
   "source": [
    "If we only want to see the first 'n' items of the table, where n is some positive integer, we can use the .head(n) function.\n",
    "\n",
    "To display only the first 3 items of our data frame 'sat':"
   ]
  },
  {
   "cell_type": "code",
   "execution_count": 5,
   "metadata": {
    "scrolled": true
   },
   "outputs": [
    {
     "data": {
      "text/html": [
       "<div>\n",
       "<style scoped>\n",
       "    .dataframe tbody tr th:only-of-type {\n",
       "        vertical-align: middle;\n",
       "    }\n",
       "\n",
       "    .dataframe tbody tr th {\n",
       "        vertical-align: top;\n",
       "    }\n",
       "\n",
       "    .dataframe thead th {\n",
       "        text-align: right;\n",
       "    }\n",
       "</style>\n",
       "<table border=\"1\" class=\"dataframe\">\n",
       "  <thead>\n",
       "    <tr style=\"text-align: right;\">\n",
       "      <th></th>\n",
       "      <th>DBN</th>\n",
       "      <th>School Name</th>\n",
       "      <th>Number of Test Takers</th>\n",
       "      <th>Critical Reading Mean</th>\n",
       "      <th>Mathematics Mean</th>\n",
       "      <th>Writing Mean</th>\n",
       "    </tr>\n",
       "  </thead>\n",
       "  <tbody>\n",
       "    <tr>\n",
       "      <th>0</th>\n",
       "      <td>01M292</td>\n",
       "      <td>Henry Street School for International Studies</td>\n",
       "      <td>31.0</td>\n",
       "      <td>391.0</td>\n",
       "      <td>425.0</td>\n",
       "      <td>385.0</td>\n",
       "    </tr>\n",
       "    <tr>\n",
       "      <th>1</th>\n",
       "      <td>01M448</td>\n",
       "      <td>University Neighborhood High School</td>\n",
       "      <td>60.0</td>\n",
       "      <td>394.0</td>\n",
       "      <td>419.0</td>\n",
       "      <td>387.0</td>\n",
       "    </tr>\n",
       "    <tr>\n",
       "      <th>2</th>\n",
       "      <td>01M450</td>\n",
       "      <td>East Side Community High School</td>\n",
       "      <td>69.0</td>\n",
       "      <td>418.0</td>\n",
       "      <td>431.0</td>\n",
       "      <td>402.0</td>\n",
       "    </tr>\n",
       "    <tr>\n",
       "      <th>3</th>\n",
       "      <td>01M458</td>\n",
       "      <td>SATELLITE ACADEMY FORSYTH ST</td>\n",
       "      <td>26.0</td>\n",
       "      <td>385.0</td>\n",
       "      <td>370.0</td>\n",
       "      <td>378.0</td>\n",
       "    </tr>\n",
       "    <tr>\n",
       "      <th>4</th>\n",
       "      <td>01M509</td>\n",
       "      <td>CMSP HIGH SCHOOL</td>\n",
       "      <td>NaN</td>\n",
       "      <td>NaN</td>\n",
       "      <td>NaN</td>\n",
       "      <td>NaN</td>\n",
       "    </tr>\n",
       "    <tr>\n",
       "      <th>5</th>\n",
       "      <td>01M515</td>\n",
       "      <td>Lower East Side Preparatory High School</td>\n",
       "      <td>154.0</td>\n",
       "      <td>314.0</td>\n",
       "      <td>532.0</td>\n",
       "      <td>314.0</td>\n",
       "    </tr>\n",
       "  </tbody>\n",
       "</table>\n",
       "</div>"
      ],
      "text/plain": [
       "      DBN                                     School Name  \\\n",
       "0  01M292  Henry Street School for International Studies    \n",
       "1  01M448            University Neighborhood High School    \n",
       "2  01M450                East Side Community High School    \n",
       "3  01M458                   SATELLITE ACADEMY FORSYTH ST    \n",
       "4  01M509                               CMSP HIGH SCHOOL    \n",
       "5  01M515        Lower East Side Preparatory High School    \n",
       "\n",
       "   Number of Test Takers  Critical Reading Mean  Mathematics Mean  \\\n",
       "0                   31.0                  391.0             425.0   \n",
       "1                   60.0                  394.0             419.0   \n",
       "2                   69.0                  418.0             431.0   \n",
       "3                   26.0                  385.0             370.0   \n",
       "4                    NaN                    NaN               NaN   \n",
       "5                  154.0                  314.0             532.0   \n",
       "\n",
       "   Writing Mean  \n",
       "0         385.0  \n",
       "1         387.0  \n",
       "2         402.0  \n",
       "3         378.0  \n",
       "4           NaN  \n",
       "5         314.0  "
      ]
     },
     "execution_count": 5,
     "metadata": {},
     "output_type": "execute_result"
    }
   ],
   "source": [
    "sat.head(3)"
   ]
  },
  {
   "cell_type": "markdown",
   "metadata": {},
   "source": [
    "Now, let's use the function .info(), this prints out information of a Data Frame, seeing how it works is best understood by seeing it's output:"
   ]
  },
  {
   "cell_type": "code",
   "execution_count": 6,
   "metadata": {},
   "outputs": [
    {
     "name": "stdout",
     "output_type": "stream",
     "text": [
      "<class 'pandas.core.frame.DataFrame'>\n",
      "RangeIndex: 460 entries, 0 to 459\n",
      "Data columns (total 6 columns):\n",
      " #   Column                 Non-Null Count  Dtype  \n",
      "---  ------                 --------------  -----  \n",
      " 0   DBN                    460 non-null    object \n",
      " 1   School Name            460 non-null    object \n",
      " 2   Number of Test Takers  386 non-null    float64\n",
      " 3   Critical Reading Mean  386 non-null    float64\n",
      " 4   Mathematics Mean       386 non-null    float64\n",
      " 5   Writing Mean           386 non-null    float64\n",
      "dtypes: float64(4), object(2)\n",
      "memory usage: 21.7+ KB\n"
     ]
    }
   ],
   "source": [
    "#now use the .info() function, and see what information it gives you:\n",
    "sat.info()"
   ]
  },
  {
   "cell_type": "markdown",
   "metadata": {},
   "source": [
    "Now we can easily see what each column is, and how much data it contains. What makes some columns contain 460 pieces of information while others contain only 386?"
   ]
  },
  {
   "cell_type": "markdown",
   "metadata": {},
   "source": [
    "Let's try the function .isnull(), which returns the data frame back with Boolean Values, depending on if a value is null (NaN) or not:"
   ]
  },
  {
   "cell_type": "code",
   "execution_count": null,
   "metadata": {
    "scrolled": true
   },
   "outputs": [],
   "source": [
    "sat.isnull()"
   ]
  },
  {
   "cell_type": "markdown",
   "metadata": {},
   "source": [
    "The miss-match in data quantity from column to column comes from some of the values being Null.\n",
    "\n",
    "Let's consider another possible issue, how can we tell if certain data has repeats? We can use the function .nunique() to see how many unique values are in each column:"
   ]
  },
  {
   "cell_type": "code",
   "execution_count": null,
   "metadata": {},
   "outputs": [],
   "source": [
    "sat.nunique()"
   ]
  },
  {
   "cell_type": "markdown",
   "metadata": {},
   "source": [
    "The number of DBN values (an arbitrary code given to each school) is less than the number of unique school names, what does this mean and why may it be problematic for School Board?"
   ]
  },
  {
   "cell_type": "markdown",
   "metadata": {},
   "source": [
    "How can we find which DBN is repeated?\n",
    "\n",
    "We can use the function .value_counts(), however we need to use it only on a specific column, which we do using the same syntax we learned in for data cleaning:"
   ]
  },
  {
   "cell_type": "code",
   "execution_count": null,
   "metadata": {},
   "outputs": [],
   "source": [
    "sat['DBN'].value_counts()"
   ]
  },
  {
   "cell_type": "markdown",
   "metadata": {},
   "source": [
    "Now we can see there are two DBN Values that repeat. Notice that the .value_counts() function automatically sorts in order from greatest to least.\n",
    "\n",
    "Practice pulling the data from the data frame where the DBN is one of the repeated values to see what schools share their values:"
   ]
  },
  {
   "cell_type": "code",
   "execution_count": null,
   "metadata": {
    "scrolled": false
   },
   "outputs": [],
   "source": [
    "#your code here"
   ]
  },
  {
   "cell_type": "markdown",
   "metadata": {},
   "source": [
    "The repeated values are given to what looks like two branches of the same two schools, however the extra repeats all have null values, so they won't scew the data in any way if we remove them."
   ]
  },
  {
   "cell_type": "markdown",
   "metadata": {},
   "source": [
    "Clear out all the schools (rows) that contain Null Data using the methods learned in the Data Cleaning lesson, make sure to reset the index as well. (Do this in-place to permanenetly alter the Data Frame)"
   ]
  },
  {
   "cell_type": "code",
   "execution_count": null,
   "metadata": {},
   "outputs": [],
   "source": [
    "#Your code here"
   ]
  },
  {
   "cell_type": "code",
   "execution_count": null,
   "metadata": {},
   "outputs": [],
   "source": [
    "sat #Does the result look correct?"
   ]
  },
  {
   "cell_type": "code",
   "execution_count": null,
   "metadata": {
    "scrolled": true
   },
   "outputs": [],
   "source": [
    "sat.info() #make sure each column now only contains 386 pieces of data"
   ]
  },
  {
   "cell_type": "code",
   "execution_count": null,
   "metadata": {},
   "outputs": [],
   "source": [
    "sat.nunique()"
   ]
  },
  {
   "cell_type": "markdown",
   "metadata": {},
   "source": [
    "Similar to .nunique() is the function .unique(), this function is applied to a single column at a time, using the same syntax as .value_counts().\n",
    "\n",
    "We will use a data set of employee data for this:"
   ]
  },
  {
   "cell_type": "code",
   "execution_count": 11,
   "metadata": {},
   "outputs": [],
   "source": [
    "HR_Data = pd.read_csv('HR.csv')"
   ]
  },
  {
   "cell_type": "code",
   "execution_count": null,
   "metadata": {},
   "outputs": [],
   "source": [
    "HR_Data.head(5) #get a look at what data this contains"
   ]
  },
  {
   "cell_type": "markdown",
   "metadata": {},
   "source": [
    "Use .unique() on the column 'Position' to find the different jobs that exist in the data set:"
   ]
  },
  {
   "cell_type": "code",
   "execution_count": null,
   "metadata": {},
   "outputs": [],
   "source": [
    "#your code here"
   ]
  },
  {
   "cell_type": "markdown",
   "metadata": {},
   "source": [
    ".nunique() can also be used on a single column, given is one way of finding the number of unique jobs by using .unique(), but try using .nunique() to find the value:"
   ]
  },
  {
   "cell_type": "code",
   "execution_count": null,
   "metadata": {},
   "outputs": [],
   "source": [
    "len(HR_Data['Position'].unique())"
   ]
  },
  {
   "cell_type": "code",
   "execution_count": null,
   "metadata": {},
   "outputs": [],
   "source": [
    "#find the same information with nunique()"
   ]
  },
  {
   "cell_type": "markdown",
   "metadata": {},
   "source": [
    "Some data sets have a lot of columns, rather than manually scrolling through the ouput of .head() or .info() we could simply use .columns to return a list of strings"
   ]
  },
  {
   "cell_type": "code",
   "execution_count": 13,
   "metadata": {},
   "outputs": [
    {
     "data": {
      "text/plain": [
       "Index(['Employee_Name', 'EmpID', 'PayRate', 'Position', 'State', 'Zip', 'Sex',\n",
       "       'MaritalDesc', 'DateofHire', 'EmploymentStatus', 'Department',\n",
       "       'ManagerName', 'EngagementSurvey', 'EmpSatisfaction',\n",
       "       'SpecialProjectsCount', 'DaysLateLast30'],\n",
       "      dtype='object')"
      ]
     },
     "execution_count": 13,
     "metadata": {},
     "output_type": "execute_result"
    }
   ],
   "source": [
    "HR_Data.columns\n",
    "#Note: we do not use (), this is not a function, but an attribute of the data frame object, just like 'shape'"
   ]
  },
  {
   "cell_type": "markdown",
   "metadata": {},
   "source": [
    "We can sort the data based off of a column using .sort_values('column name')\n",
    "\n",
    "Try sorting HR_Data by EmpID:"
   ]
  },
  {
   "cell_type": "code",
   "execution_count": null,
   "metadata": {},
   "outputs": [],
   "source": [
    "#your code here"
   ]
  },
  {
   "cell_type": "markdown",
   "metadata": {},
   "source": [
    "We can use a variety of other functions on single columns to find information about them, such as .max(), .min(), .mean(), .median(), .sum(), and more using the same syntax we did for .unique() or .value_counts(), lets practice:"
   ]
  },
  {
   "cell_type": "code",
   "execution_count": 14,
   "metadata": {},
   "outputs": [
    {
     "data": {
      "text/plain": [
       "31.28480645161292"
      ]
     },
     "execution_count": 14,
     "metadata": {},
     "output_type": "execute_result"
    }
   ],
   "source": [
    "#What's the average pay rate?"
   ]
  },
  {
   "cell_type": "code",
   "execution_count": null,
   "metadata": {},
   "outputs": [],
   "source": [
    "#in the SAT data, what was the lowest average writing score for a school?\n",
    "#your code here"
   ]
  },
  {
   "cell_type": "markdown",
   "metadata": {},
   "source": [
    "But what school does this data belong to? We can use the Syntax we did for cleaning to pull that specific row:"
   ]
  },
  {
   "cell_type": "code",
   "execution_count": 9,
   "metadata": {},
   "outputs": [
    {
     "data": {
      "text/html": [
       "<div>\n",
       "<style scoped>\n",
       "    .dataframe tbody tr th:only-of-type {\n",
       "        vertical-align: middle;\n",
       "    }\n",
       "\n",
       "    .dataframe tbody tr th {\n",
       "        vertical-align: top;\n",
       "    }\n",
       "\n",
       "    .dataframe thead th {\n",
       "        text-align: right;\n",
       "    }\n",
       "</style>\n",
       "<table border=\"1\" class=\"dataframe\">\n",
       "  <thead>\n",
       "    <tr style=\"text-align: right;\">\n",
       "      <th></th>\n",
       "      <th>DBN</th>\n",
       "      <th>School Name</th>\n",
       "      <th>Number of Test Takers</th>\n",
       "      <th>Critical Reading Mean</th>\n",
       "      <th>Mathematics Mean</th>\n",
       "      <th>Writing Mean</th>\n",
       "    </tr>\n",
       "  </thead>\n",
       "  <tbody>\n",
       "    <tr>\n",
       "      <th>173</th>\n",
       "      <td>10X342</td>\n",
       "      <td>International School of Liberal Arts</td>\n",
       "      <td>46.0</td>\n",
       "      <td>333.0</td>\n",
       "      <td>336.0</td>\n",
       "      <td>285.0</td>\n",
       "    </tr>\n",
       "  </tbody>\n",
       "</table>\n",
       "</div>"
      ],
      "text/plain": [
       "        DBN                            School Name  Number of Test Takers  \\\n",
       "173  10X342  International School of Liberal Arts                    46.0   \n",
       "\n",
       "     Critical Reading Mean  Mathematics Mean  Writing Mean  \n",
       "173                  333.0             336.0         285.0  "
      ]
     },
     "execution_count": 9,
     "metadata": {},
     "output_type": "execute_result"
    }
   ],
   "source": [
    "sat[sat['Writing Mean'] == sat['Writing Mean'].min()]"
   ]
  },
  {
   "cell_type": "markdown",
   "metadata": {},
   "source": [
    "Find the name of the employee in our HR_Data with the Highest Pay"
   ]
  },
  {
   "cell_type": "code",
   "execution_count": null,
   "metadata": {},
   "outputs": [],
   "source": [
    "#Your code here"
   ]
  },
  {
   "cell_type": "markdown",
   "metadata": {},
   "source": [
    "### Practice\n",
    "\n",
    "The toal SAT score is calculated by simply adding up the scores for reading, writing, and math. Lets try to get a weighted average of the total SAT score for all the students. We say 'weighted average' because each school had a different number of students who contributed to it's average score. \n",
    "\n",
    "To get the weighted average, first, find the avearge total SAT score for each school by summing the average of math, reading, and writing. Then, multiply this number by the number of students that contributed to the schools score. Take the sum of this product from all schools, and divide it by the sum of all students from all schools.\n",
    "\n",
    "Challenege: do this all in one line\n",
    "\n",
    "Ans: 1335.922"
   ]
  },
  {
   "cell_type": "code",
   "execution_count": null,
   "metadata": {},
   "outputs": [],
   "source": [
    "#your code here\n",
    "sum(((sat['Critical Reading Mean'] + sat['Mathematics Mean'] + sat['Writing Mean']) * sat['Number of Test Takers'])/sat['Number of Test Takers'].sum())"
   ]
  },
  {
   "cell_type": "markdown",
   "metadata": {},
   "source": [
    "### Correlations in Data with .corr()"
   ]
  },
  {
   "cell_type": "markdown",
   "metadata": {},
   "source": [
    "The last built in function we'll look at is .corr()\n",
    "\n",
    "This function finds the correlation between the data in the columns of a data frame, and outputs them into a matrix"
   ]
  },
  {
   "cell_type": "code",
   "execution_count": null,
   "metadata": {},
   "outputs": [],
   "source": [
    "sat.corr()"
   ]
  },
  {
   "cell_type": "markdown",
   "metadata": {},
   "source": [
    "Notice that the rows and columns of this output are the same.\n",
    "\n",
    "Each value in the matrix will have a value between -1 and 1. A value of 0 means that the two sets of data have no correlation aka they're unrelated/independendt of each other. A value of 1 means that two sets of Data are Completely coorelated, aka equal to each other. A negative correlation means two data sets are related in that an increase in one means a decrease in the other."
   ]
  },
  {
   "cell_type": "markdown",
   "metadata": {},
   "source": [
    "Take a look at the correlation within the HR_Data data frame:"
   ]
  },
  {
   "cell_type": "code",
   "execution_count": 15,
   "metadata": {
    "scrolled": true
   },
   "outputs": [
    {
     "data": {
      "text/html": [
       "<div>\n",
       "<style scoped>\n",
       "    .dataframe tbody tr th:only-of-type {\n",
       "        vertical-align: middle;\n",
       "    }\n",
       "\n",
       "    .dataframe tbody tr th {\n",
       "        vertical-align: top;\n",
       "    }\n",
       "\n",
       "    .dataframe thead th {\n",
       "        text-align: right;\n",
       "    }\n",
       "</style>\n",
       "<table border=\"1\" class=\"dataframe\">\n",
       "  <thead>\n",
       "    <tr style=\"text-align: right;\">\n",
       "      <th></th>\n",
       "      <th>EmpID</th>\n",
       "      <th>PayRate</th>\n",
       "      <th>Zip</th>\n",
       "      <th>EngagementSurvey</th>\n",
       "      <th>EmpSatisfaction</th>\n",
       "      <th>SpecialProjectsCount</th>\n",
       "      <th>DaysLateLast30</th>\n",
       "    </tr>\n",
       "  </thead>\n",
       "  <tbody>\n",
       "    <tr>\n",
       "      <th>EmpID</th>\n",
       "      <td>1.000000</td>\n",
       "      <td>-0.020310</td>\n",
       "      <td>0.130735</td>\n",
       "      <td>-0.005720</td>\n",
       "      <td>-0.017726</td>\n",
       "      <td>-0.171329</td>\n",
       "      <td>NaN</td>\n",
       "    </tr>\n",
       "    <tr>\n",
       "      <th>PayRate</th>\n",
       "      <td>-0.020310</td>\n",
       "      <td>1.000000</td>\n",
       "      <td>0.391945</td>\n",
       "      <td>-0.024223</td>\n",
       "      <td>0.061525</td>\n",
       "      <td>0.448484</td>\n",
       "      <td>NaN</td>\n",
       "    </tr>\n",
       "    <tr>\n",
       "      <th>Zip</th>\n",
       "      <td>0.130735</td>\n",
       "      <td>0.391945</td>\n",
       "      <td>1.000000</td>\n",
       "      <td>-0.000982</td>\n",
       "      <td>-0.064478</td>\n",
       "      <td>-0.096083</td>\n",
       "      <td>NaN</td>\n",
       "    </tr>\n",
       "    <tr>\n",
       "      <th>EngagementSurvey</th>\n",
       "      <td>-0.005720</td>\n",
       "      <td>-0.024223</td>\n",
       "      <td>-0.000982</td>\n",
       "      <td>1.000000</td>\n",
       "      <td>-0.017123</td>\n",
       "      <td>-0.040253</td>\n",
       "      <td>NaN</td>\n",
       "    </tr>\n",
       "    <tr>\n",
       "      <th>EmpSatisfaction</th>\n",
       "      <td>-0.017726</td>\n",
       "      <td>0.061525</td>\n",
       "      <td>-0.064478</td>\n",
       "      <td>-0.017123</td>\n",
       "      <td>1.000000</td>\n",
       "      <td>0.036456</td>\n",
       "      <td>NaN</td>\n",
       "    </tr>\n",
       "    <tr>\n",
       "      <th>SpecialProjectsCount</th>\n",
       "      <td>-0.171329</td>\n",
       "      <td>0.448484</td>\n",
       "      <td>-0.096083</td>\n",
       "      <td>-0.040253</td>\n",
       "      <td>0.036456</td>\n",
       "      <td>1.000000</td>\n",
       "      <td>NaN</td>\n",
       "    </tr>\n",
       "    <tr>\n",
       "      <th>DaysLateLast30</th>\n",
       "      <td>NaN</td>\n",
       "      <td>NaN</td>\n",
       "      <td>NaN</td>\n",
       "      <td>NaN</td>\n",
       "      <td>NaN</td>\n",
       "      <td>NaN</td>\n",
       "      <td>NaN</td>\n",
       "    </tr>\n",
       "  </tbody>\n",
       "</table>\n",
       "</div>"
      ],
      "text/plain": [
       "                         EmpID   PayRate       Zip  EngagementSurvey  \\\n",
       "EmpID                 1.000000 -0.020310  0.130735         -0.005720   \n",
       "PayRate              -0.020310  1.000000  0.391945         -0.024223   \n",
       "Zip                   0.130735  0.391945  1.000000         -0.000982   \n",
       "EngagementSurvey     -0.005720 -0.024223 -0.000982          1.000000   \n",
       "EmpSatisfaction      -0.017726  0.061525 -0.064478         -0.017123   \n",
       "SpecialProjectsCount -0.171329  0.448484 -0.096083         -0.040253   \n",
       "DaysLateLast30             NaN       NaN       NaN               NaN   \n",
       "\n",
       "                      EmpSatisfaction  SpecialProjectsCount  DaysLateLast30  \n",
       "EmpID                       -0.017726             -0.171329             NaN  \n",
       "PayRate                      0.061525              0.448484             NaN  \n",
       "Zip                         -0.064478             -0.096083             NaN  \n",
       "EngagementSurvey            -0.017123             -0.040253             NaN  \n",
       "EmpSatisfaction              1.000000              0.036456             NaN  \n",
       "SpecialProjectsCount         0.036456              1.000000             NaN  \n",
       "DaysLateLast30                    NaN                   NaN             NaN  "
      ]
     },
     "execution_count": 15,
     "metadata": {},
     "output_type": "execute_result"
    }
   ],
   "source": [
    "HR_Data.corr()"
   ]
  },
  {
   "cell_type": "markdown",
   "metadata": {},
   "source": [
    "As a disclaimer, this data is made up for the purposes of practicing data science.\n",
    "\n",
    "One way to confirm this is to look at the coorelation of the zip code of the employees to other data. Any given Zip Code should be nearly random for every employee, as it's arbitrarily based on location. However we see a somewhat significant correlation between the zip code and the pay rate. Why is this? Perhaps the PayRate was generated based off of the zip code when the data set was made, or vis-versa. Perhaps there is a legitamate reason for it, maybe people in a certain location have a higher pay-rates due to a building with executives residing in a region with a higher zip code, while buildings with lower level employees reside in regions of smaller zip codes."
   ]
  },
  {
   "cell_type": "markdown",
   "metadata": {},
   "source": [
    "The math that generates the output comes from statistics. We don't have time to prove it, but the general formula is:\n",
    "\n",
    "$ \\rho_{X,Y} = \\frac{E[XY]-E[X]E[Y]}{\\sqrt{E[X^2]-[E[X]]^2} \\sqrt{E[Y^2]-[E[Y]]^2}} $\n",
    " \n",
    " Where $\\rho_{X,Y}$ is the correlation value of data sets (Columns) X and Y, $E[X]$ is the 'expectation value' (fancy term for mean) of the values of X, $E[Y]$ is the 'expectation value' of the values of Y, and likewise $E[XY]$ would be the average of every corresponding data point x and y multiplied together, and similar for $E[X^2], E[Y^2]$\n",
    " \n",
    "If you don't understand this yet it's okay, you woun't need to program this in yourself, just know that the numbers generated by corr() is mathmatics and not magic"
   ]
  },
  {
   "cell_type": "markdown",
   "metadata": {},
   "source": [
    "### Apply() and user defined/ Lambda functions"
   ]
  },
  {
   "cell_type": "markdown",
   "metadata": {},
   "source": [
    "Lets look again at our HR_Data:"
   ]
  },
  {
   "cell_type": "code",
   "execution_count": 16,
   "metadata": {},
   "outputs": [
    {
     "data": {
      "text/html": [
       "<div>\n",
       "<style scoped>\n",
       "    .dataframe tbody tr th:only-of-type {\n",
       "        vertical-align: middle;\n",
       "    }\n",
       "\n",
       "    .dataframe tbody tr th {\n",
       "        vertical-align: top;\n",
       "    }\n",
       "\n",
       "    .dataframe thead th {\n",
       "        text-align: right;\n",
       "    }\n",
       "</style>\n",
       "<table border=\"1\" class=\"dataframe\">\n",
       "  <thead>\n",
       "    <tr style=\"text-align: right;\">\n",
       "      <th></th>\n",
       "      <th>Employee_Name</th>\n",
       "      <th>EmpID</th>\n",
       "      <th>PayRate</th>\n",
       "      <th>Position</th>\n",
       "      <th>State</th>\n",
       "      <th>Zip</th>\n",
       "      <th>Sex</th>\n",
       "      <th>MaritalDesc</th>\n",
       "      <th>DateofHire</th>\n",
       "      <th>EmploymentStatus</th>\n",
       "      <th>Department</th>\n",
       "      <th>ManagerName</th>\n",
       "      <th>EngagementSurvey</th>\n",
       "      <th>EmpSatisfaction</th>\n",
       "      <th>SpecialProjectsCount</th>\n",
       "      <th>DaysLateLast30</th>\n",
       "    </tr>\n",
       "  </thead>\n",
       "  <tbody>\n",
       "    <tr>\n",
       "      <th>0</th>\n",
       "      <td>Brown, Mia</td>\n",
       "      <td>1103024456</td>\n",
       "      <td>28.5</td>\n",
       "      <td>Accountant I</td>\n",
       "      <td>MA</td>\n",
       "      <td>1450</td>\n",
       "      <td>F</td>\n",
       "      <td>Married</td>\n",
       "      <td>10/27/2008</td>\n",
       "      <td>Active</td>\n",
       "      <td>Admin Offices</td>\n",
       "      <td>Brandon R. LeBlanc</td>\n",
       "      <td>2.04</td>\n",
       "      <td>2</td>\n",
       "      <td>6</td>\n",
       "      <td>0.0</td>\n",
       "    </tr>\n",
       "    <tr>\n",
       "      <th>1</th>\n",
       "      <td>LaRotonda, William</td>\n",
       "      <td>1106026572</td>\n",
       "      <td>23.0</td>\n",
       "      <td>Accountant I</td>\n",
       "      <td>MA</td>\n",
       "      <td>1460</td>\n",
       "      <td>M</td>\n",
       "      <td>Divorced</td>\n",
       "      <td>1/6/2014</td>\n",
       "      <td>Active</td>\n",
       "      <td>Admin Offices</td>\n",
       "      <td>Brandon R. LeBlanc</td>\n",
       "      <td>5.00</td>\n",
       "      <td>4</td>\n",
       "      <td>4</td>\n",
       "      <td>0.0</td>\n",
       "    </tr>\n",
       "    <tr>\n",
       "      <th>2</th>\n",
       "      <td>Steans, Tyrone</td>\n",
       "      <td>1302053333</td>\n",
       "      <td>29.0</td>\n",
       "      <td>Accountant I</td>\n",
       "      <td>MA</td>\n",
       "      <td>2703</td>\n",
       "      <td>M</td>\n",
       "      <td>Single</td>\n",
       "      <td>9/29/2014</td>\n",
       "      <td>Active</td>\n",
       "      <td>Admin Offices</td>\n",
       "      <td>Brandon R. LeBlanc</td>\n",
       "      <td>3.90</td>\n",
       "      <td>5</td>\n",
       "      <td>5</td>\n",
       "      <td>0.0</td>\n",
       "    </tr>\n",
       "  </tbody>\n",
       "</table>\n",
       "</div>"
      ],
      "text/plain": [
       "          Employee_Name       EmpID  PayRate      Position State   Zip Sex  \\\n",
       "0            Brown, Mia  1103024456     28.5  Accountant I    MA  1450   F   \n",
       "1  LaRotonda, William    1106026572     23.0  Accountant I    MA  1460  M    \n",
       "2      Steans, Tyrone    1302053333     29.0  Accountant I    MA  2703  M    \n",
       "\n",
       "  MaritalDesc  DateofHire EmploymentStatus     Department         ManagerName  \\\n",
       "0     Married  10/27/2008           Active  Admin Offices  Brandon R. LeBlanc   \n",
       "1    Divorced    1/6/2014           Active  Admin Offices  Brandon R. LeBlanc   \n",
       "2      Single   9/29/2014           Active  Admin Offices  Brandon R. LeBlanc   \n",
       "\n",
       "   EngagementSurvey  EmpSatisfaction  SpecialProjectsCount  DaysLateLast30  \n",
       "0              2.04                2                     6             0.0  \n",
       "1              5.00                4                     4             0.0  \n",
       "2              3.90                5                     5             0.0  "
      ]
     },
     "execution_count": 16,
     "metadata": {},
     "output_type": "execute_result"
    }
   ],
   "source": [
    "HR_Data.head(3)"
   ]
  },
  {
   "cell_type": "markdown",
   "metadata": {},
   "source": [
    "Say we want to make a column of data that contained only the year an employee was hired, how can we extract this data from the 'DateofHire' column? \n",
    "\n",
    "This is where the .apply() function comes in, .apply() takes in a function as it's argument, and applies it to every value within the series (either a row or a column).\n",
    "\n",
    "Maybe we could find a built in function to do this, but it's far easier to write a function ourselves to do this for our specific formatting.\n",
    "\n",
    "Lets first define a function that uses split('/') on the 'DateOfHire' Column to get a list of \\[month, day, year\\], to ultimately return just the year:"
   ]
  },
  {
   "cell_type": "code",
   "execution_count": 17,
   "metadata": {},
   "outputs": [],
   "source": [
    "def year_extract(date_string):\n",
    "    return date_string.split('/')[2]"
   ]
  },
  {
   "cell_type": "code",
   "execution_count": 18,
   "metadata": {},
   "outputs": [
    {
     "name": "stdout",
     "output_type": "stream",
     "text": [
      "2021\n"
     ]
    }
   ],
   "source": [
    "#test it out\n",
    "test_data = '2/3/2022'\n",
    "print(year_extract(test_data))"
   ]
  },
  {
   "cell_type": "markdown",
   "metadata": {},
   "source": [
    "Now lets apply the function to create a new column that contains just the year the employee was hired:"
   ]
  },
  {
   "cell_type": "code",
   "execution_count": 19,
   "metadata": {},
   "outputs": [],
   "source": [
    "HR_Data['YearofHire'] = HR_Data['DateofHire'].apply(year_extract)\n",
    "#we don't need to pass in any arguments to our function 'year_extract', the data in the row is assumed to be the argument"
   ]
  },
  {
   "cell_type": "code",
   "execution_count": 20,
   "metadata": {},
   "outputs": [
    {
     "data": {
      "text/html": [
       "<div>\n",
       "<style scoped>\n",
       "    .dataframe tbody tr th:only-of-type {\n",
       "        vertical-align: middle;\n",
       "    }\n",
       "\n",
       "    .dataframe tbody tr th {\n",
       "        vertical-align: top;\n",
       "    }\n",
       "\n",
       "    .dataframe thead th {\n",
       "        text-align: right;\n",
       "    }\n",
       "</style>\n",
       "<table border=\"1\" class=\"dataframe\">\n",
       "  <thead>\n",
       "    <tr style=\"text-align: right;\">\n",
       "      <th></th>\n",
       "      <th>Employee_Name</th>\n",
       "      <th>EmpID</th>\n",
       "      <th>PayRate</th>\n",
       "      <th>Position</th>\n",
       "      <th>State</th>\n",
       "      <th>Zip</th>\n",
       "      <th>Sex</th>\n",
       "      <th>MaritalDesc</th>\n",
       "      <th>DateofHire</th>\n",
       "      <th>EmploymentStatus</th>\n",
       "      <th>Department</th>\n",
       "      <th>ManagerName</th>\n",
       "      <th>EngagementSurvey</th>\n",
       "      <th>EmpSatisfaction</th>\n",
       "      <th>SpecialProjectsCount</th>\n",
       "      <th>DaysLateLast30</th>\n",
       "      <th>YearofHire</th>\n",
       "    </tr>\n",
       "  </thead>\n",
       "  <tbody>\n",
       "    <tr>\n",
       "      <th>0</th>\n",
       "      <td>Brown, Mia</td>\n",
       "      <td>1103024456</td>\n",
       "      <td>28.5</td>\n",
       "      <td>Accountant I</td>\n",
       "      <td>MA</td>\n",
       "      <td>1450</td>\n",
       "      <td>F</td>\n",
       "      <td>Married</td>\n",
       "      <td>10/27/2008</td>\n",
       "      <td>Active</td>\n",
       "      <td>Admin Offices</td>\n",
       "      <td>Brandon R. LeBlanc</td>\n",
       "      <td>2.04</td>\n",
       "      <td>2</td>\n",
       "      <td>6</td>\n",
       "      <td>0.0</td>\n",
       "      <td>2008</td>\n",
       "    </tr>\n",
       "    <tr>\n",
       "      <th>1</th>\n",
       "      <td>LaRotonda, William</td>\n",
       "      <td>1106026572</td>\n",
       "      <td>23.0</td>\n",
       "      <td>Accountant I</td>\n",
       "      <td>MA</td>\n",
       "      <td>1460</td>\n",
       "      <td>M</td>\n",
       "      <td>Divorced</td>\n",
       "      <td>1/6/2014</td>\n",
       "      <td>Active</td>\n",
       "      <td>Admin Offices</td>\n",
       "      <td>Brandon R. LeBlanc</td>\n",
       "      <td>5.00</td>\n",
       "      <td>4</td>\n",
       "      <td>4</td>\n",
       "      <td>0.0</td>\n",
       "      <td>2014</td>\n",
       "    </tr>\n",
       "    <tr>\n",
       "      <th>2</th>\n",
       "      <td>Steans, Tyrone</td>\n",
       "      <td>1302053333</td>\n",
       "      <td>29.0</td>\n",
       "      <td>Accountant I</td>\n",
       "      <td>MA</td>\n",
       "      <td>2703</td>\n",
       "      <td>M</td>\n",
       "      <td>Single</td>\n",
       "      <td>9/29/2014</td>\n",
       "      <td>Active</td>\n",
       "      <td>Admin Offices</td>\n",
       "      <td>Brandon R. LeBlanc</td>\n",
       "      <td>3.90</td>\n",
       "      <td>5</td>\n",
       "      <td>5</td>\n",
       "      <td>0.0</td>\n",
       "      <td>2014</td>\n",
       "    </tr>\n",
       "    <tr>\n",
       "      <th>3</th>\n",
       "      <td>Howard, Estelle</td>\n",
       "      <td>1211050782</td>\n",
       "      <td>21.5</td>\n",
       "      <td>Administrative Assistant</td>\n",
       "      <td>MA</td>\n",
       "      <td>2170</td>\n",
       "      <td>F</td>\n",
       "      <td>Married</td>\n",
       "      <td>2/16/2015</td>\n",
       "      <td>Terminated for Cause</td>\n",
       "      <td>Admin Offices</td>\n",
       "      <td>Brandon R. LeBlanc</td>\n",
       "      <td>3.24</td>\n",
       "      <td>3</td>\n",
       "      <td>4</td>\n",
       "      <td>NaN</td>\n",
       "      <td>2015</td>\n",
       "    </tr>\n",
       "  </tbody>\n",
       "</table>\n",
       "</div>"
      ],
      "text/plain": [
       "          Employee_Name       EmpID  PayRate                  Position State  \\\n",
       "0            Brown, Mia  1103024456     28.5              Accountant I    MA   \n",
       "1  LaRotonda, William    1106026572     23.0              Accountant I    MA   \n",
       "2      Steans, Tyrone    1302053333     29.0              Accountant I    MA   \n",
       "3       Howard, Estelle  1211050782     21.5  Administrative Assistant    MA   \n",
       "\n",
       "    Zip Sex MaritalDesc  DateofHire      EmploymentStatus     Department  \\\n",
       "0  1450   F     Married  10/27/2008                Active  Admin Offices   \n",
       "1  1460  M     Divorced    1/6/2014                Active  Admin Offices   \n",
       "2  2703  M       Single   9/29/2014                Active  Admin Offices   \n",
       "3  2170   F     Married   2/16/2015  Terminated for Cause  Admin Offices   \n",
       "\n",
       "          ManagerName  EngagementSurvey  EmpSatisfaction  \\\n",
       "0  Brandon R. LeBlanc              2.04                2   \n",
       "1  Brandon R. LeBlanc              5.00                4   \n",
       "2  Brandon R. LeBlanc              3.90                5   \n",
       "3  Brandon R. LeBlanc              3.24                3   \n",
       "\n",
       "   SpecialProjectsCount  DaysLateLast30 YearofHire  \n",
       "0                     6             0.0       2008  \n",
       "1                     4             0.0       2014  \n",
       "2                     5             0.0       2014  \n",
       "3                     4             NaN       2015  "
      ]
     },
     "execution_count": 20,
     "metadata": {},
     "output_type": "execute_result"
    }
   ],
   "source": [
    "HR_Data.head(4)"
   ]
  },
  {
   "cell_type": "markdown",
   "metadata": {},
   "source": [
    "Now try writing two functions that takes the employee_Name and splits it into the first and last names respectivelys:"
   ]
  },
  {
   "cell_type": "code",
   "execution_count": null,
   "metadata": {},
   "outputs": [],
   "source": [
    "def extract_first(name):\n",
    "    #your code here\n",
    "\n",
    "def extract_last(name):\n",
    "    #your code here"
   ]
  },
  {
   "cell_type": "markdown",
   "metadata": {},
   "source": [
    "Now apply this function to add two separate columns of 'FirstName' and 'LastName':"
   ]
  },
  {
   "cell_type": "code",
   "execution_count": null,
   "metadata": {},
   "outputs": [],
   "source": [
    "#your code here"
   ]
  },
  {
   "cell_type": "code",
   "execution_count": null,
   "metadata": {},
   "outputs": [],
   "source": [
    "HR_Data.head(3) #check your output"
   ]
  },
  {
   "cell_type": "markdown",
   "metadata": {},
   "source": [
    "This method of defining a function and then using it works just fine, but it can be a bit clunky. Because we only use them once, we can abreviate it in our code by passing in a 'Lambda Function', which is the same thing we just did, but we don't give our function a name or give it permanent memory space, but instead breifly pass in the formula to be used the one time.\n",
    "\n",
    "The syntax for them is different than what we've seen, so let's start by re-creating the year_extract function and break-down the differences:"
   ]
  },
  {
   "cell_type": "code",
   "execution_count": null,
   "metadata": {},
   "outputs": [],
   "source": [
    "HR_Data['YearofHireLambda'] = HR_Data['DateofHire'].apply(lambda year: year.split('/')[2])"
   ]
  },
  {
   "cell_type": "code",
   "execution_count": null,
   "metadata": {},
   "outputs": [],
   "source": [
    "HR_Data.head(3)"
   ]
  },
  {
   "cell_type": "markdown",
   "metadata": {},
   "source": [
    "We did the exact same thing, but all in one line!\n",
    "How did the syntax translate? we wrote:\n",
    "\n",
    "`lambda year : year.split('/')[2]`\n",
    "\n",
    "Think of 'lambda' as our 'def', and 'year' as the name of our input variable, to give `lambda year :` to be like `def nameless_function(year):`"
   ]
  },
  {
   "cell_type": "markdown",
   "metadata": {},
   "source": [
    "The left side of the colon is our function definition, see how it's the same thing we did in the original function definition"
   ]
  },
  {
   "cell_type": "markdown",
   "metadata": {},
   "source": [
    "We can abbreviate further, most times when people write lambda functions they simply use 'x' and 'y' as their variables,\n",
    "\n",
    "For example `lambda x: x.split(',')[0]` may be used to get the last names if this lambda function were applied to the 'Employee_Name' column"
   ]
  },
  {
   "cell_type": "markdown",
   "metadata": {},
   "source": [
    "When working on your own code, if you don't feel comfortable with lambda functions right away it's okay. You can still use the first method that gives it an identifier. Later if you feel up to the challenge, try to go back through and adapt them to lambda functions."
   ]
  },
  {
   "cell_type": "markdown",
   "metadata": {},
   "source": [
    "### Practice"
   ]
  },
  {
   "cell_type": "code",
   "execution_count": null,
   "metadata": {},
   "outputs": [],
   "source": [
    "HR_Data = pd.read_csv('HR.csv')\n",
    "HR_Data.drop(axis=1,inplace=True,labels='Department') #modifying our table as if the department column were not included"
   ]
  },
  {
   "cell_type": "markdown",
   "metadata": {},
   "source": [
    "In the HR data set, there are 5 positions relate to IT. First, try using .unique() to see the different positions in the department, then use .apply() to generate a new data frame with only people relating to the IT department by devising your own function.\n",
    "\n",
    "Export this as a new csv file 'HR_IT_Data.csv' without the index (I'm not going to give you this answer, try using the help() function or google. Self teaching is the best way to learn past the basics, as teaching every function is impossible in our amount of time)\n",
    "\n",
    "Challenge: Do this all in one line"
   ]
  },
  {
   "cell_type": "code",
   "execution_count": null,
   "metadata": {},
   "outputs": [],
   "source": [
    "#your code here"
   ]
  },
  {
   "cell_type": "code",
   "execution_count": 22,
   "metadata": {},
   "outputs": [
    {
     "data": {
      "text/html": [
       "<div>\n",
       "<style scoped>\n",
       "    .dataframe tbody tr th:only-of-type {\n",
       "        vertical-align: middle;\n",
       "    }\n",
       "\n",
       "    .dataframe tbody tr th {\n",
       "        vertical-align: top;\n",
       "    }\n",
       "\n",
       "    .dataframe thead th {\n",
       "        text-align: right;\n",
       "    }\n",
       "</style>\n",
       "<table border=\"1\" class=\"dataframe\">\n",
       "  <thead>\n",
       "    <tr style=\"text-align: right;\">\n",
       "      <th></th>\n",
       "      <th>Employee_Name</th>\n",
       "      <th>EmpID</th>\n",
       "      <th>PayRate</th>\n",
       "      <th>Position</th>\n",
       "      <th>State</th>\n",
       "      <th>Zip</th>\n",
       "      <th>Sex</th>\n",
       "      <th>MaritalDesc</th>\n",
       "      <th>DateofHire</th>\n",
       "      <th>EmploymentStatus</th>\n",
       "      <th>ManagerName</th>\n",
       "      <th>EngagementSurvey</th>\n",
       "      <th>EmpSatisfaction</th>\n",
       "      <th>SpecialProjectsCount</th>\n",
       "      <th>DaysLateLast30</th>\n",
       "    </tr>\n",
       "  </thead>\n",
       "  <tbody>\n",
       "    <tr>\n",
       "      <th>0</th>\n",
       "      <td>Foss, Jason</td>\n",
       "      <td>1192991000</td>\n",
       "      <td>65.00</td>\n",
       "      <td>IT Director</td>\n",
       "      <td>MA</td>\n",
       "      <td>1460</td>\n",
       "      <td>M</td>\n",
       "      <td>Single</td>\n",
       "      <td>4/15/2011</td>\n",
       "      <td>Active</td>\n",
       "      <td>Jennifer Zamora</td>\n",
       "      <td>3.76</td>\n",
       "      <td>5</td>\n",
       "      <td>5</td>\n",
       "      <td>0.0</td>\n",
       "    </tr>\n",
       "    <tr>\n",
       "      <th>1</th>\n",
       "      <td>Roup,Simon</td>\n",
       "      <td>1106026933</td>\n",
       "      <td>62.00</td>\n",
       "      <td>IT Manager - DB</td>\n",
       "      <td>MA</td>\n",
       "      <td>2481</td>\n",
       "      <td>M</td>\n",
       "      <td>Single</td>\n",
       "      <td>1/20/2013</td>\n",
       "      <td>Active</td>\n",
       "      <td>Jennifer Zamora</td>\n",
       "      <td>2.96</td>\n",
       "      <td>5</td>\n",
       "      <td>7</td>\n",
       "      <td>0.0</td>\n",
       "    </tr>\n",
       "    <tr>\n",
       "      <th>2</th>\n",
       "      <td>Ruiz, Ricardo</td>\n",
       "      <td>1001175250</td>\n",
       "      <td>21.00</td>\n",
       "      <td>IT Manager - DB</td>\n",
       "      <td>MA</td>\n",
       "      <td>1915</td>\n",
       "      <td>M</td>\n",
       "      <td>Divorced</td>\n",
       "      <td>1/9/2012</td>\n",
       "      <td>Voluntarily Terminated</td>\n",
       "      <td>Jennifer Zamora</td>\n",
       "      <td>2.51</td>\n",
       "      <td>4</td>\n",
       "      <td>6</td>\n",
       "      <td>NaN</td>\n",
       "    </tr>\n",
       "    <tr>\n",
       "      <th>3</th>\n",
       "      <td>Monroe, Peter</td>\n",
       "      <td>1011022863</td>\n",
       "      <td>63.00</td>\n",
       "      <td>IT Manager - Infra</td>\n",
       "      <td>MA</td>\n",
       "      <td>2134</td>\n",
       "      <td>M</td>\n",
       "      <td>Married</td>\n",
       "      <td>2/15/2012</td>\n",
       "      <td>Active</td>\n",
       "      <td>Jennifer Zamora</td>\n",
       "      <td>2.39</td>\n",
       "      <td>3</td>\n",
       "      <td>6</td>\n",
       "      <td>0.0</td>\n",
       "    </tr>\n",
       "    <tr>\n",
       "      <th>4</th>\n",
       "      <td>Dougall, Eric</td>\n",
       "      <td>1101023754</td>\n",
       "      <td>64.00</td>\n",
       "      <td>IT Manager - Support</td>\n",
       "      <td>MA</td>\n",
       "      <td>1886</td>\n",
       "      <td>M</td>\n",
       "      <td>Single</td>\n",
       "      <td>1/5/2014</td>\n",
       "      <td>Active</td>\n",
       "      <td>Jennifer Zamora</td>\n",
       "      <td>1.99</td>\n",
       "      <td>5</td>\n",
       "      <td>5</td>\n",
       "      <td>0.0</td>\n",
       "    </tr>\n",
       "    <tr>\n",
       "      <th>5</th>\n",
       "      <td>Clayton, Rick</td>\n",
       "      <td>1301052902</td>\n",
       "      <td>28.99</td>\n",
       "      <td>IT Support</td>\n",
       "      <td>MA</td>\n",
       "      <td>2170</td>\n",
       "      <td>M</td>\n",
       "      <td>Single</td>\n",
       "      <td>9/5/2012</td>\n",
       "      <td>Active</td>\n",
       "      <td>Eric Dougall</td>\n",
       "      <td>2.55</td>\n",
       "      <td>3</td>\n",
       "      <td>6</td>\n",
       "      <td>0.0</td>\n",
       "    </tr>\n",
       "    <tr>\n",
       "      <th>6</th>\n",
       "      <td>Galia, Lisa</td>\n",
       "      <td>1501072093</td>\n",
       "      <td>31.40</td>\n",
       "      <td>IT Support</td>\n",
       "      <td>CT</td>\n",
       "      <td>6040</td>\n",
       "      <td>F</td>\n",
       "      <td>Single</td>\n",
       "      <td>5/1/2010</td>\n",
       "      <td>Active</td>\n",
       "      <td>Eric Dougall</td>\n",
       "      <td>1.21</td>\n",
       "      <td>4</td>\n",
       "      <td>5</td>\n",
       "      <td>0.0</td>\n",
       "    </tr>\n",
       "    <tr>\n",
       "      <th>7</th>\n",
       "      <td>Lindsay, Leonara</td>\n",
       "      <td>602000312</td>\n",
       "      <td>26.00</td>\n",
       "      <td>IT Support</td>\n",
       "      <td>CT</td>\n",
       "      <td>6070</td>\n",
       "      <td>F</td>\n",
       "      <td>Single</td>\n",
       "      <td>1/21/2011</td>\n",
       "      <td>Active</td>\n",
       "      <td>Eric Dougall</td>\n",
       "      <td>4.64</td>\n",
       "      <td>4</td>\n",
       "      <td>5</td>\n",
       "      <td>0.0</td>\n",
       "    </tr>\n",
       "    <tr>\n",
       "      <th>8</th>\n",
       "      <td>Soto, Julia</td>\n",
       "      <td>1203032263</td>\n",
       "      <td>27.49</td>\n",
       "      <td>IT Support</td>\n",
       "      <td>MA</td>\n",
       "      <td>2360</td>\n",
       "      <td>F</td>\n",
       "      <td>Married</td>\n",
       "      <td>6/10/2011</td>\n",
       "      <td>Active</td>\n",
       "      <td>Eric Dougall</td>\n",
       "      <td>4.30</td>\n",
       "      <td>3</td>\n",
       "      <td>5</td>\n",
       "      <td>0.0</td>\n",
       "    </tr>\n",
       "    <tr>\n",
       "      <th>9</th>\n",
       "      <td>Bacong, Alejandro</td>\n",
       "      <td>1212052023</td>\n",
       "      <td>45.00</td>\n",
       "      <td>IT Support</td>\n",
       "      <td>MA</td>\n",
       "      <td>1886</td>\n",
       "      <td>M</td>\n",
       "      <td>Divorced</td>\n",
       "      <td>1/5/2015</td>\n",
       "      <td>Active</td>\n",
       "      <td>Peter Monroe</td>\n",
       "      <td>1.84</td>\n",
       "      <td>5</td>\n",
       "      <td>6</td>\n",
       "      <td>0.0</td>\n",
       "    </tr>\n",
       "    <tr>\n",
       "      <th>10</th>\n",
       "      <td>Cisco, Anthony</td>\n",
       "      <td>1102024173</td>\n",
       "      <td>42.00</td>\n",
       "      <td>IT Support</td>\n",
       "      <td>MA</td>\n",
       "      <td>2135</td>\n",
       "      <td>M</td>\n",
       "      <td>Married</td>\n",
       "      <td>3/30/2015</td>\n",
       "      <td>Active</td>\n",
       "      <td>Peter Monroe</td>\n",
       "      <td>2.21</td>\n",
       "      <td>5</td>\n",
       "      <td>7</td>\n",
       "      <td>0.0</td>\n",
       "    </tr>\n",
       "    <tr>\n",
       "      <th>11</th>\n",
       "      <td>Dolan, Linda</td>\n",
       "      <td>1101023540</td>\n",
       "      <td>37.00</td>\n",
       "      <td>IT Support</td>\n",
       "      <td>MA</td>\n",
       "      <td>2119</td>\n",
       "      <td>F</td>\n",
       "      <td>Married</td>\n",
       "      <td>1/5/2015</td>\n",
       "      <td>Active</td>\n",
       "      <td>Peter Monroe</td>\n",
       "      <td>4.11</td>\n",
       "      <td>4</td>\n",
       "      <td>6</td>\n",
       "      <td>0.0</td>\n",
       "    </tr>\n",
       "    <tr>\n",
       "      <th>12</th>\n",
       "      <td>Gonzalez, Maria</td>\n",
       "      <td>1988299991</td>\n",
       "      <td>39.00</td>\n",
       "      <td>IT Support</td>\n",
       "      <td>MA</td>\n",
       "      <td>2472</td>\n",
       "      <td>F</td>\n",
       "      <td>Separated</td>\n",
       "      <td>1/5/2015</td>\n",
       "      <td>Active</td>\n",
       "      <td>Peter Monroe</td>\n",
       "      <td>4.61</td>\n",
       "      <td>4</td>\n",
       "      <td>5</td>\n",
       "      <td>0.0</td>\n",
       "    </tr>\n",
       "  </tbody>\n",
       "</table>\n",
       "</div>"
      ],
      "text/plain": [
       "         Employee_Name       EmpID  PayRate              Position State   Zip  \\\n",
       "0          Foss, Jason  1192991000    65.00           IT Director    MA  1460   \n",
       "1           Roup,Simon  1106026933    62.00       IT Manager - DB    MA  2481   \n",
       "2        Ruiz, Ricardo  1001175250    21.00       IT Manager - DB    MA  1915   \n",
       "3        Monroe, Peter  1011022863    63.00    IT Manager - Infra    MA  2134   \n",
       "4        Dougall, Eric  1101023754    64.00  IT Manager - Support    MA  1886   \n",
       "5        Clayton, Rick  1301052902    28.99            IT Support    MA  2170   \n",
       "6          Galia, Lisa  1501072093    31.40            IT Support    CT  6040   \n",
       "7    Lindsay, Leonara    602000312    26.00            IT Support    CT  6070   \n",
       "8         Soto, Julia   1203032263    27.49            IT Support    MA  2360   \n",
       "9   Bacong, Alejandro   1212052023    45.00            IT Support    MA  1886   \n",
       "10      Cisco, Anthony  1102024173    42.00            IT Support    MA  2135   \n",
       "11        Dolan, Linda  1101023540    37.00            IT Support    MA  2119   \n",
       "12     Gonzalez, Maria  1988299991    39.00            IT Support    MA  2472   \n",
       "\n",
       "   Sex MaritalDesc DateofHire        EmploymentStatus      ManagerName  \\\n",
       "0   M       Single  4/15/2011                  Active  Jennifer Zamora   \n",
       "1   M       Single  1/20/2013                  Active  Jennifer Zamora   \n",
       "2   M     Divorced   1/9/2012  Voluntarily Terminated  Jennifer Zamora   \n",
       "3   M      Married  2/15/2012                  Active  Jennifer Zamora   \n",
       "4   M       Single   1/5/2014                  Active  Jennifer Zamora   \n",
       "5   M       Single   9/5/2012                  Active     Eric Dougall   \n",
       "6    F      Single   5/1/2010                  Active     Eric Dougall   \n",
       "7    F      Single  1/21/2011                  Active     Eric Dougall   \n",
       "8    F     Married  6/10/2011                  Active     Eric Dougall   \n",
       "9   M     Divorced   1/5/2015                  Active     Peter Monroe   \n",
       "10  M      Married  3/30/2015                  Active     Peter Monroe   \n",
       "11   F     Married   1/5/2015                  Active     Peter Monroe   \n",
       "12   F   Separated   1/5/2015                  Active     Peter Monroe   \n",
       "\n",
       "    EngagementSurvey  EmpSatisfaction  SpecialProjectsCount  DaysLateLast30  \n",
       "0               3.76                5                     5             0.0  \n",
       "1               2.96                5                     7             0.0  \n",
       "2               2.51                4                     6             NaN  \n",
       "3               2.39                3                     6             0.0  \n",
       "4               1.99                5                     5             0.0  \n",
       "5               2.55                3                     6             0.0  \n",
       "6               1.21                4                     5             0.0  \n",
       "7               4.64                4                     5             0.0  \n",
       "8               4.30                3                     5             0.0  \n",
       "9               1.84                5                     6             0.0  \n",
       "10              2.21                5                     7             0.0  \n",
       "11              4.11                4                     6             0.0  \n",
       "12              4.61                4                     5             0.0  "
      ]
     },
     "execution_count": 22,
     "metadata": {},
     "output_type": "execute_result"
    }
   ],
   "source": [
    "#check your answer\n",
    "HR_IT = pd.read_csv('HR_IT_Data.csv')\n",
    "HR_IT"
   ]
  },
  {
   "cell_type": "markdown",
   "metadata": {},
   "source": [
    "## Group by"
   ]
  },
  {
   "cell_type": "markdown",
   "metadata": {},
   "source": [
    "The last thing we will learn is 'Group-By'\n",
    "This will enable us to group data by certain values, for example, we could group people in the HR_IT data by their manager name, in order to see how different managers effect employee satisfaction or engangement."
   ]
  },
  {
   "cell_type": "code",
   "execution_count": 23,
   "metadata": {},
   "outputs": [
    {
     "data": {
      "text/plain": [
       "<pandas.core.groupby.generic.DataFrameGroupBy object at 0x0000018250BA11F0>"
      ]
     },
     "execution_count": 23,
     "metadata": {},
     "output_type": "execute_result"
    }
   ],
   "source": [
    "HR_IT.groupby('ManagerName')"
   ]
  },
  {
   "cell_type": "markdown",
   "metadata": {},
   "source": [
    "This returns an object that, by it-self, we can't pull data from, or even display. However, we can apply functions to such as .mean(), .sum(), and other functions."
   ]
  },
  {
   "cell_type": "code",
   "execution_count": 24,
   "metadata": {},
   "outputs": [],
   "source": [
    "IT_Manager = HR_IT.groupby('ManagerName') #give our object a name"
   ]
  },
  {
   "cell_type": "code",
   "execution_count": 25,
   "metadata": {},
   "outputs": [
    {
     "data": {
      "text/html": [
       "<div>\n",
       "<style scoped>\n",
       "    .dataframe tbody tr th:only-of-type {\n",
       "        vertical-align: middle;\n",
       "    }\n",
       "\n",
       "    .dataframe tbody tr th {\n",
       "        vertical-align: top;\n",
       "    }\n",
       "\n",
       "    .dataframe thead th {\n",
       "        text-align: right;\n",
       "    }\n",
       "</style>\n",
       "<table border=\"1\" class=\"dataframe\">\n",
       "  <thead>\n",
       "    <tr style=\"text-align: right;\">\n",
       "      <th></th>\n",
       "      <th>EmpID</th>\n",
       "      <th>PayRate</th>\n",
       "      <th>Zip</th>\n",
       "      <th>EngagementSurvey</th>\n",
       "      <th>EmpSatisfaction</th>\n",
       "      <th>SpecialProjectsCount</th>\n",
       "      <th>DaysLateLast30</th>\n",
       "    </tr>\n",
       "    <tr>\n",
       "      <th>ManagerName</th>\n",
       "      <th></th>\n",
       "      <th></th>\n",
       "      <th></th>\n",
       "      <th></th>\n",
       "      <th></th>\n",
       "      <th></th>\n",
       "      <th></th>\n",
       "    </tr>\n",
       "  </thead>\n",
       "  <tbody>\n",
       "    <tr>\n",
       "      <th>Eric Dougall</th>\n",
       "      <td>1.151789e+09</td>\n",
       "      <td>28.47</td>\n",
       "      <td>4160.0</td>\n",
       "      <td>3.1750</td>\n",
       "      <td>3.5</td>\n",
       "      <td>5.25</td>\n",
       "      <td>0.0</td>\n",
       "    </tr>\n",
       "    <tr>\n",
       "      <th>Jennifer Zamora</th>\n",
       "      <td>1.082448e+09</td>\n",
       "      <td>55.00</td>\n",
       "      <td>1975.2</td>\n",
       "      <td>2.7220</td>\n",
       "      <td>4.4</td>\n",
       "      <td>5.80</td>\n",
       "      <td>0.0</td>\n",
       "    </tr>\n",
       "    <tr>\n",
       "      <th>Peter Monroe</th>\n",
       "      <td>1.350850e+09</td>\n",
       "      <td>40.75</td>\n",
       "      <td>2153.0</td>\n",
       "      <td>3.1925</td>\n",
       "      <td>4.5</td>\n",
       "      <td>6.00</td>\n",
       "      <td>0.0</td>\n",
       "    </tr>\n",
       "  </tbody>\n",
       "</table>\n",
       "</div>"
      ],
      "text/plain": [
       "                        EmpID  PayRate     Zip  EngagementSurvey  \\\n",
       "ManagerName                                                        \n",
       "Eric Dougall     1.151789e+09    28.47  4160.0            3.1750   \n",
       "Jennifer Zamora  1.082448e+09    55.00  1975.2            2.7220   \n",
       "Peter Monroe     1.350850e+09    40.75  2153.0            3.1925   \n",
       "\n",
       "                 EmpSatisfaction  SpecialProjectsCount  DaysLateLast30  \n",
       "ManagerName                                                             \n",
       "Eric Dougall                 3.5                  5.25             0.0  \n",
       "Jennifer Zamora              4.4                  5.80             0.0  \n",
       "Peter Monroe                 4.5                  6.00             0.0  "
      ]
     },
     "execution_count": 25,
     "metadata": {},
     "output_type": "execute_result"
    }
   ],
   "source": [
    "IT_Manager.mean() #find the mean values across each manager group"
   ]
  },
  {
   "cell_type": "markdown",
   "metadata": {},
   "source": [
    "This is powerful, We can show analytically who is performing well and who is performing poorly, all with just a few lines of code. If you were to present this to a board or an exective, you could clean it up, screen shot it, and put it in a powerpoint with an explanation of how you obtained the data. It is clear, precise, and objective."
   ]
  },
  {
   "cell_type": "markdown",
   "metadata": {},
   "source": [
    "### Practice\n",
    "Try running this same process on the entrire set of HR_Data and sort by the sum of employee satisfaction and engagement:"
   ]
  },
  {
   "cell_type": "code",
   "execution_count": null,
   "metadata": {},
   "outputs": [],
   "source": [
    "#your code here"
   ]
  },
  {
   "cell_type": "markdown",
   "metadata": {},
   "source": [
    "Is there a correlation between average payrates of employees under a manager and the sum of engagement and satisfaction averages?"
   ]
  }
 ],
 "metadata": {
  "kernelspec": {
   "display_name": "Python 3",
   "language": "python",
   "name": "python3"
  },
  "language_info": {
   "codemirror_mode": {
    "name": "ipython",
    "version": 3
   },
   "file_extension": ".py",
   "mimetype": "text/x-python",
   "name": "python",
   "nbconvert_exporter": "python",
   "pygments_lexer": "ipython3",
   "version": "3.8.8"
  }
 },
 "nbformat": 4,
 "nbformat_minor": 2
}
